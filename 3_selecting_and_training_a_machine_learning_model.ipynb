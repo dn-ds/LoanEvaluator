{
 "cells": [
  {
   "cell_type": "markdown",
   "metadata": {},
   "source": [
    "# Selecting and Training a Machine Learning Model\n",
    "\n",
    "**Goals:** Prepare the data for machine learning algorithms, train and \n",
    "evaluate machine learning models, tune hyperparameters and select the \n",
    "best model.\n",
    "\n",
    "**Summary:** The primary purpose of this notebook is to select a machine\n",
    "learning model whose goal is to classify a given loan instance as either \n",
    "'Fully Paid' or 'Charged Off'. It is important to first choose a metric \n",
    "to evaluate machine learning models. Our dataset is imbalanced: \n",
    "approximately 80% of the data belongs to the negative class ('Fully Paid'), \n",
    "and 20% belongs to the positive class ('Charged Off'). Accuracy is an \n",
    "inappropriate metric because of this imbalance. \n",
    "\n",
    "The high-level objective is to limit the number of false negatives: A \n",
    "potential investor would rather miss an investment opportunity than fund \n",
    "a risky loan. Two metrics are used for evaluation: Precision-Recall Area \n",
    "Under the Curve (PR AUC) and Receiver Operating Characteristic Area Under \n",
    "the Curve (ROC AUC). The PR curve gives a visualization of the trade-off \n",
    "between the True Positive Rate (TPR, also known as Recall) and the \n",
    "Positive Predictive Value (PPV, also known as Precision) for different \n",
    "decision value or probability thresholds. On the other hand, the ROC curve \n",
    "gives a visualization of the trade-off between the True Positive Rate and \n",
    "False Positive Rate (FPR) for different decision value or probability \n",
    "thresholds. \n",
    "\n",
    "We summarize below our findings and the actions taken to achieve the stated \n",
    "goals.\n",
    "\n",
    "1) **Prepare the data for machine learning algorithms:** We create a \n",
    "pipeline which performs the tasks of imputation, scaling (if necessary), \n",
    "and encoding categorical features. We include in the pipeline custom \n",
    "transformers which do some feature engineering.\n",
    "\n",
    "\n",
    "2) **Train and evaluate machine learning models:** We consider four models:\n",
    "Logistic Regression, Random Forest, Linear Discriminant Analysis, and \n",
    "K-Nearest Neighbors. To estimate overfitting, we evaluate each of the four \n",
    "models on the training dataset, first without cross-validation, and second \n",
    "with cross-validation. The latter allows us to rank our models, and we \n",
    "select the top models for hyperparameter tuning, with an aim to reduce \n",
    "overfitting. The two metrics used give identical rankings.\n",
    "\n",
    "\n",
    "3) **Tune hyperparameters and the select best model:** We perform \n",
    "hyperparameter tuning using a grid search with cross-validation \n",
    "on the training dataset. We choose the best performing model as our final \n",
    "model, and evaluate it on the test set."
   ]
  },
  {
   "cell_type": "code",
   "execution_count": 1,
   "metadata": {},
   "outputs": [],
   "source": [
    "# Load required packages and modules.\n",
    "import numpy as np\n",
    "import pandas as pd\n",
    "import matplotlib.pyplot as plt\n",
    "import seaborn as sns\n",
    "import dill\n",
    "from math import ceil\n",
    "from sklearn.base import BaseEstimator, TransformerMixin\n",
    "from sklearn.pipeline import Pipeline\n",
    "from sklearn.impute import SimpleImputer\n",
    "from sklearn.preprocessing import StandardScaler, RobustScaler \n",
    "from sklearn.preprocessing import OneHotEncoder, OrdinalEncoder\n",
    "from sklearn.compose import ColumnTransformer\n",
    "from sklearn.linear_model import LogisticRegression\n",
    "from sklearn.ensemble import RandomForestClassifier\n",
    "from sklearn.discriminant_analysis import LinearDiscriminantAnalysis\n",
    "from sklearn.neighbors import KNeighborsClassifier\n",
    "from sklearn.decomposition import PCA\n",
    "from sklearn.model_selection import cross_val_predict\n",
    "from sklearn.model_selection import GridSearchCV\n",
    "from sklearn.metrics import precision_recall_curve\n",
    "from sklearn.metrics import average_precision_score\n",
    "from sklearn.metrics import roc_curve\n",
    "from sklearn.metrics import roc_auc_score\n",
    "from sklearn.exceptions import ConvergenceWarning\n",
    "from joblib import Parallel, delayed\n",
    "from warnings import simplefilter\n",
    "from time import sleep\n",
    "\n",
    "# Suppress convergence warnings.\n",
    "simplefilter('ignore', category=ConvergenceWarning)\n",
    "\n",
    "# Set the backend of matplotlib to 'inline'.\n",
    "%matplotlib inline\n",
    "\n",
    "# Create plots using seaborn's default aesthetic arguments. \n",
    "sns.set()\n",
    "\n",
    "# Make this notebook's output identical across runs.\n",
    "np.random.seed(1)"
   ]
  },
  {
   "cell_type": "markdown",
   "metadata": {},
   "source": [
    "## 1. Prepare the Data for Machine Learning Algorithms"
   ]
  },
  {
   "cell_type": "code",
   "execution_count": 2,
   "metadata": {},
   "outputs": [],
   "source": [
    "# Read the training data into a pandas dataframe.\n",
    "loan_data_train = pd.read_hdf('data/loan_data_train_and_test.hd5', \n",
    "                              key='train')"
   ]
  },
  {
   "cell_type": "code",
   "execution_count": 3,
   "metadata": {},
   "outputs": [
    {
     "name": "stdout",
     "output_type": "stream",
     "text": [
      "Size of the training dataset: 1076244 rows and 28 columns\n"
     ]
    }
   ],
   "source": [
    "n_rows, n_cols = loan_data_train.shape\n",
    "print(f'Size of the training dataset: {n_rows} rows and {n_cols} columns')"
   ]
  },
  {
   "cell_type": "markdown",
   "metadata": {},
   "source": [
    "Let’s separate the predictor features and the target feature (labels):"
   ]
  },
  {
   "cell_type": "code",
   "execution_count": 4,
   "metadata": {},
   "outputs": [],
   "source": [
    "loan_data_train_labels = loan_data_train['loan_status'].copy()\n",
    "loan_data_train.drop(columns=['loan_status'], inplace=True)"
   ]
  },
  {
   "cell_type": "markdown",
   "metadata": {},
   "source": [
    "Let's remind ourselves of the predictor features:"
   ]
  },
  {
   "cell_type": "code",
   "execution_count": 5,
   "metadata": {},
   "outputs": [
    {
     "name": "stdout",
     "output_type": "stream",
     "text": [
      "['addr_state', 'annual_inc', 'application_type', 'dti', 'earliest_cr_line', 'emp_length', 'fico_range_high', 'fico_range_low', 'home_ownership', 'initial_list_status', 'installment', 'int_rate', 'issue_d', 'loan_amnt', 'mort_acc', 'open_acc', 'pub_rec', 'pub_rec_bankruptcies', 'purpose', 'revol_bal', 'revol_util', 'sub_grade', 'tax_liens', 'term', 'total_acc', 'verification_status', 'zip_code']\n"
     ]
    }
   ],
   "source": [
    "print(sorted(loan_data_train.columns))"
   ]
  },
  {
   "cell_type": "markdown",
   "metadata": {},
   "source": [
    "Let's split the features into numerical features and categorical features:"
   ]
  },
  {
   "cell_type": "code",
   "execution_count": 6,
   "metadata": {},
   "outputs": [],
   "source": [
    "# Numerical features\n",
    "num_features = ['annual_inc', 'dti', 'fico_range_high', 'fico_range_low', \n",
    "                'installment', 'int_rate', 'loan_amnt', 'mort_acc', \n",
    "                'open_acc', 'pub_rec', 'pub_rec_bankruptcies', 'revol_bal', \n",
    "                'revol_util', 'tax_liens', 'total_acc']\n",
    "\n",
    "# Categorical features\n",
    "cat_features = ['addr_state', 'application_type', 'earliest_cr_line', \n",
    "                'emp_length', 'home_ownership', 'initial_list_status', \n",
    "                'issue_d', 'purpose', 'sub_grade', 'term', \n",
    "                'verification_status', 'zip_code']"
   ]
  },
  {
   "cell_type": "markdown",
   "metadata": {},
   "source": [
    "Let's split the categorical features into ordinal features and nominal\n",
    "features:"
   ]
  },
  {
   "cell_type": "code",
   "execution_count": 7,
   "metadata": {},
   "outputs": [],
   "source": [
    "# Ordinal features\n",
    "ord_features = ['sub_grade']\n",
    "\n",
    "# Nominal features (1)\n",
    "nom_features_1 = ['addr_state', 'application_type', 'emp_length',\n",
    "                  'home_ownership', 'initial_list_status', 'purpose', 'term', \n",
    "                  'verification_status']\n",
    "\n",
    "# Nominal features (2). These nominal features need to be handled differently \n",
    "# from the nominal features appearing above.\n",
    "nom_features_2 = ['earliest_cr_line', 'issue_d', 'zip_code']"
   ]
  },
  {
   "cell_type": "markdown",
   "metadata": {},
   "source": [
    "In the notebook *Exploring and Cleaning the Data* we identified the \n",
    "unique categories for the feature **sub_grade**. Let's collect these \n",
    "categories into a list:"
   ]
  },
  {
   "cell_type": "code",
   "execution_count": 8,
   "metadata": {},
   "outputs": [],
   "source": [
    "# Categories for the feature 'sub_grade'.\n",
    "sub_grade_cats = ['A1', 'A2', 'A3', 'A4', 'A5', 'B1', 'B2', 'B3', 'B4', 'B5', \n",
    "                  'C1', 'C2', 'C3', 'C4', 'C5', 'D1', 'D2', 'D3', 'D4', 'D5', \n",
    "                  'E1', 'E2', 'E3', 'E4', 'E5', 'F1', 'F2', 'F3', 'F4', 'F5', \n",
    "                  'G1', 'G2', 'G3', 'G4', 'G5']"
   ]
  },
  {
   "cell_type": "markdown",
   "metadata": {},
   "source": [
    "In the two cells below, we create custom transformers for numerical and\n",
    "nominal features, respectively. By adding TransformerMixin as a base class,\n",
    "we get the fit_transform() method for free. By adding BaseEstimator as a base \n",
    "class, we get the methods get_params() and set_params() which\n",
    "will be useful for automatic hyperparameter tuning. \n",
    "\n",
    "Each of the two custom transformers below have one hyperparameter each. \n",
    "Having these hyperparameters available allows us, if we so choose, to \n",
    "automatically test (during a grid search) whether transforming a feature or\n",
    "adding a new feature helps the machine learning algorithm or not.\n",
    "\n",
    "The first custom transformer applies a log transform to certain features, and\n",
    "adds the average of the features **fico_range_low** and **fico_range_high** \n",
    "as a new feature. The second custom transformer adds the approximate age of \n",
    "the oldest credit account and the zip code income as new features."
   ]
  },
  {
   "cell_type": "code",
   "execution_count": 9,
   "metadata": {},
   "outputs": [],
   "source": [
    "class NumericalFeatureModifier(BaseEstimator, TransformerMixin):\n",
    "    \"\"\"Add a new feature, drop some old features, and apply log transform to \n",
    "    certain features, as described in the transform method.\n",
    "    \n",
    "    Parameters\n",
    "    ----------\n",
    "    apply_log : boolean, optional, default True\n",
    "        If True, apply log transform to the features 'annual_inc', 'dti', \n",
    "        and 'revol_bal'.\n",
    "    \n",
    "    num_features: list\n",
    "                  Names of mumerical features.\n",
    "    \"\"\"\n",
    "    \n",
    "    def __init__(self, num_features, apply_log=True):        \n",
    "        self.num_features = num_features\n",
    "        self.apply_log = apply_log\n",
    "        # Get column indices.\n",
    "        self.annual_inc_idx = num_features.index('annual_inc')\n",
    "        self.dti_idx = num_features.index('dti')\n",
    "        self.fico_range_high_idx = num_features.index('fico_range_high')\n",
    "        self.fico_range_low_idx = num_features.index('fico_range_low')\n",
    "        self.revol_bal_idx = num_features.index('revol_bal')\n",
    "        \n",
    "    def fit(self, X, y=None):\n",
    "        \"\"\"Do nothing.\n",
    "        \n",
    "        Parameters\n",
    "        ----------\n",
    "        X : numpy array, shape [n_rows, n_cols]\n",
    "            The data to be transformed.\n",
    "        \n",
    "        y : None\n",
    "            Ignored.\n",
    "            \n",
    "        Returns\n",
    "        -------\n",
    "        self : object\n",
    "               Transformer instance.\n",
    "        \"\"\"        \n",
    "        return self\n",
    "    \n",
    "    def transform(self, X):\n",
    "        \"\"\"Add the average of the features 'fico_range_low' and \n",
    "        'fico_range_high' as a new feature. Drop the features fico_range_low \n",
    "        and fico_range_high. Apply log transform to the features \n",
    "        annual_inc, dti, and revol_bal.\n",
    "\n",
    "        Parameters\n",
    "        ----------\n",
    "        X :  numpy array, shape [n_rows, n_cols]\n",
    "             The data to be transformed.\n",
    "\n",
    "        Returns\n",
    "        -------\n",
    "        X_tr: numpy array, [n_rows, n_cols]\n",
    "              The transformed array.\n",
    "        \"\"\"\n",
    "        import numpy as np\n",
    "        fico_score_avg = (0.5*X[:, self.fico_range_low_idx] \n",
    "                         + 0.5*X[:, self.fico_range_high_idx])      \n",
    "        if self.apply_log:\n",
    "            # Apply log transform to the features 'annual_inc', 'dti', and \n",
    "            # 'revol_bal'.\n",
    "            log_annual_inc = np.log10(X[:, self.annual_inc_idx] + 1)\n",
    "            log_dti = np.log10(X[:, self.dti_idx] + 1)\n",
    "            log_revol_bal = np.log10(X[:, self.revol_bal_idx] + 1)\n",
    "            # Drop the features 'annual_inc', 'dti', 'revol_bal', \n",
    "            # 'fico_range_low', and 'fico_range_high'.\n",
    "            X = np.delete(X, \n",
    "                          [self.fico_range_low_idx, self.fico_range_high_idx,\n",
    "                           self.annual_inc_idx, self.dti_idx, \n",
    "                           self.revol_bal_idx], \n",
    "                          1)\n",
    "            return np.c_[X, fico_score_avg, log_annual_inc, log_dti, \n",
    "                         log_revol_bal]\n",
    "        else:\n",
    "            X = np.delete(X, [self.fico_range_low_idx, \n",
    "                              self.fico_range_high_idx], 1)\n",
    "            return np.c_[X, fico_score_avg]"
   ]
  },
  {
   "cell_type": "code",
   "execution_count": 10,
   "metadata": {},
   "outputs": [],
   "source": [
    "# Read the zip code data into a pandas dataframe.\n",
    "zip3_code_data = pd.read_hdf('data/loan_data_train_and_test.hd5', \n",
    "                             key='zip_code')"
   ]
  },
  {
   "cell_type": "code",
   "execution_count": 11,
   "metadata": {},
   "outputs": [],
   "source": [
    "class NominalFeatureModifier(BaseEstimator, TransformerMixin):\n",
    "    \"\"\"Approximate the age of oldest credit acccount, and add it as a new\n",
    "    feature. Add the zip code income as a new feature.\n",
    "    \n",
    "    Parameters\n",
    "    ----------\n",
    "    add_zip_code_inc : boolean, optional, default True\n",
    "        If True, add the 'zip code income' feature.  \n",
    "        \n",
    "    nom_features_2: list\n",
    "                    Names of some nominal features.\n",
    "                    \n",
    "    zip3_code_data: pandas dataframe\n",
    "                    Median household income by zip code.\n",
    "    \"\"\"\n",
    "    \n",
    "    def __init__(self, nom_features_2, zip3_code_data, add_zip_code_inc=True):\n",
    "        self.nom_features_2 = nom_features_2\n",
    "        self.zip3_code_data = zip3_code_data\n",
    "        self.add_zip_code_inc = add_zip_code_inc \n",
    "        # Get column indices.\n",
    "        self.earliest_cr_line_idx = nom_features_2.index('earliest_cr_line')\n",
    "        self.issue_d_idx = nom_features_2.index('issue_d')\n",
    "        self.zip_code_idx = nom_features_2.index('zip_code')\n",
    "        \n",
    "    def fit(self, X, y=None):\n",
    "        \"\"\"Do nothing.\n",
    "        \n",
    "        Parameters\n",
    "        ----------\n",
    "        X : numpy array, shape [n_rows, n_cols]\n",
    "            The data to be transformed.\n",
    "        \n",
    "        y : None\n",
    "            Ignored.\n",
    "            \n",
    "        Returns\n",
    "        -------\n",
    "        self : object\n",
    "               Transformer instance.\n",
    "        \"\"\"        \n",
    "        return self\n",
    "    \n",
    "    def transform(self, X):\n",
    "        \"\"\"Add the approximate age of the oldest credit line and the zip code\n",
    "        income as new features.\n",
    "\n",
    "        Parameters\n",
    "        ----------\n",
    "        X :  numpy array, shape [n_rows, n_cols]\n",
    "             The data to be transformed.\n",
    "\n",
    "        Returns\n",
    "        -------\n",
    "        X_tr: numpy array, [n_rows, n_cols]\n",
    "              The transformed array.\n",
    "        \"\"\"\n",
    "        import numpy as np\n",
    "        import pandas as pd\n",
    "        start_date = pd.to_datetime(X[:, self.earliest_cr_line_idx], \n",
    "                                    format='%b-%Y') \n",
    "        end_date = pd.to_datetime(X[:, self.issue_d_idx], format='%b-%Y')\n",
    "        # Compute the approximate age of the oldest credit line.                        \n",
    "        cr_line_age = ((end_date - start_date).days).values\n",
    "        if self.add_zip_code_inc:            \n",
    "            zip_code_inc = self.zip3_code_data[X[:, self.zip_code_idx]].values            \n",
    "            return np.c_[cr_line_age, zip_code_inc]\n",
    "        else:\n",
    "            # The transformer 'ColumnTransformer' expects a column vector, \n",
    "            # not a row vector, so convert the row vector 'cr_line_age' to a \n",
    "            # column vector.                  \n",
    "            return cr_line_age.reshape(-1,1)"
   ]
  },
  {
   "cell_type": "markdown",
   "metadata": {},
   "source": [
    "Next, we first create preprocessing pipelines for numerical and categorical \n",
    "features, and then create two full preprocessor pipelines,\n",
    "one for linear models and the other for nonlinear models. The nonlinear\n",
    "preprocessor does not include any feature scaling, while the linear one does. \n",
    "Nonlinear models such as Random Forest do not need feature scaling, and as \n",
    "such they will use the nonlinear preprocesssor."
   ]
  },
  {
   "cell_type": "code",
   "execution_count": 12,
   "metadata": {},
   "outputs": [],
   "source": [
    "# Numerical preprocessor to use for linear models.\n",
    "num_preprocessor_lin = Pipeline([\n",
    "    ('imputer', SimpleImputer(strategy='median')),\n",
    "    ('modifier', NumericalFeatureModifier(num_features)),\n",
    "    ('scaler', StandardScaler())\n",
    "])\n",
    "\n",
    "# Numerical preprocessor to use for nonlinear models.\n",
    "num_preprocessor_nlin = Pipeline([\n",
    "    ('imputer', SimpleImputer(strategy='median')),\n",
    "    ('modifier', NumericalFeatureModifier(num_features, apply_log=False))\n",
    "])\n",
    "\n",
    "# Ordinal preprocessor to use for linear models.\n",
    "ord_preprocessor_lin = Pipeline([\n",
    "    ('imputer', SimpleImputer(strategy='most_frequent')),\n",
    "    ('ord_encoder', OrdinalEncoder(categories=[sub_grade_cats])),\n",
    "    ('scaler', StandardScaler())\n",
    "])\n",
    "\n",
    "# Ordinal preprocessor to use for nonlinear models.\n",
    "ord_preprocessor_nlin = Pipeline([\n",
    "    ('imputer', SimpleImputer(strategy='most_frequent')),\n",
    "    ('ord_encoder', OrdinalEncoder(categories=[sub_grade_cats]))\n",
    "])\n",
    "\n",
    "# Nominal preprocessor #1 to use for both linear and nonlinear models.\n",
    "nom_preprocessor_1 = Pipeline([\n",
    "    ('imputer', SimpleImputer(strategy='most_frequent')),\n",
    "    ('nom_encoder', OneHotEncoder(sparse=False, handle_unknown='ignore'))\n",
    "])\n",
    "\n",
    "nom_preprocessor_1_lin = nom_preprocessor_1\n",
    "nom_preprocessor_1_nlin = nom_preprocessor_1\n",
    "\n",
    "# Nominal preprocessor #2 to use for linear models.\n",
    "nom_preprocessor_2_lin = Pipeline([\n",
    "    ('imputer', SimpleImputer(strategy='most_frequent')),\n",
    "    ('modifier', NominalFeatureModifier(nom_features_2, zip3_code_data)),\n",
    "    ('scaler', StandardScaler())\n",
    "])\n",
    "\n",
    "# Nominal preprocessor #2 to use for nonlinear models.\n",
    "nom_preprocessor_2_nlin = Pipeline([\n",
    "    ('imputer', SimpleImputer(strategy='most_frequent')),\n",
    "    ('modifier', NominalFeatureModifier(nom_features_2, zip3_code_data))\n",
    "])\n",
    "\n",
    "# Preprocessor to use for linear models.\n",
    "preprocessor_lin = ColumnTransformer([\n",
    "    ('num_preproc', num_preprocessor_lin, num_features),\n",
    "    ('ord_preproc', ord_preprocessor_lin, ord_features),\n",
    "    ('nom_preproc_1', nom_preprocessor_1_lin, nom_features_1),\n",
    "    ('nom_preproc_2', nom_preprocessor_2_lin, nom_features_2)\n",
    "])  \n",
    "\n",
    "# Preprocessor to use for nonlinear models.\n",
    "preprocessor_nlin = ColumnTransformer([\n",
    "    ('num_preproc', num_preprocessor_nlin, num_features),\n",
    "    ('ord_preproc', ord_preprocessor_nlin, ord_features),\n",
    "    ('nom_preproc_1', nom_preprocessor_1_nlin, nom_features_1),\n",
    "    ('nom_preproc_2', nom_preprocessor_2_nlin, nom_features_2)\n",
    "]) \n",
    "\n",
    "# Append classifier to the preprocessing pipeline, to get a full prediction \n",
    "# pipeline for each model.\n",
    "\n",
    "logreg_clf = Pipeline([\n",
    "    ('preproc', preprocessor_lin),\n",
    "    ('classifier', LogisticRegression())\n",
    "])\n",
    "\n",
    "rnd_forest_clf = Pipeline([\n",
    "    ('preproc', preprocessor_nlin),\n",
    "    ('classifier', RandomForestClassifier())\n",
    "])\n",
    "\n",
    "lda_clf = Pipeline([\n",
    "    ('preproc', preprocessor_lin),\n",
    "    ('classifier', LinearDiscriminantAnalysis())    \n",
    "])\n",
    "\n",
    "# Reduce the dimensionality of the data using PCA, to alleviate the effects \n",
    "# of the curse of dimensionality.\n",
    "knn_clf = Pipeline([\n",
    "    ('preproc', preprocessor_lin),\n",
    "    ('pca', PCA(7)),\n",
    "    ('classifier', KNeighborsClassifier())\n",
    "])\n",
    "\n",
    "# Create lists of prediction pipelines and their names for later use.\n",
    "clfs = [logreg_clf, rnd_forest_clf, lda_clf, knn_clf]\n",
    "clf_names = ['Logistic Regression', 'Random Forest',\n",
    "             'Linear Discriminant Analysis', 'K-Nearest Neighbors']"
   ]
  },
  {
   "cell_type": "markdown",
   "metadata": {},
   "source": [
    "## 2. Train and Evaluate Machine Learning Models"
   ]
  },
  {
   "cell_type": "markdown",
   "metadata": {},
   "source": [
    "In the two cells below, we define functions that plot Precision-Recall curves \n",
    "and Receiver Operating Characteristic (ROC) curves, respectively."
   ]
  },
  {
   "cell_type": "code",
   "execution_count": 13,
   "metadata": {},
   "outputs": [],
   "source": [
    "def plot_pr_curves(y_true, y_scores, pos_label=None, threshold=None, \n",
    "                   descr=None):\n",
    "    \"\"\"Plot Precision-Recall curves for given true binary labels and \n",
    "    predicted decision values or probabilities of the positive class.\n",
    "        \n",
    "    Parameters\n",
    "    ----------\n",
    "    y_true : array-like, shape [n_samples]\n",
    "        True binary labels. If labels are not either {-1, 1} or {0, 1}, \n",
    "        then pos_label should be explicitly given.\n",
    "        \n",
    "    y_scores : dictionary, with values array-like of shape [n_samples]\n",
    "        Target scores. Predicted decision values (as returned by \n",
    "        decision_function on some classifiers) or probabilities of the \n",
    "        positive class.\n",
    "             \n",
    "    pos_label : int or str, default None\n",
    "        The label of the positive class. When pos_label=None, if y_true is in \n",
    "        {-1, 1} or {0, 1}, pos_label is set to 1, otherwise an error will be \n",
    "        raised.\n",
    "    \n",
    "    threshold : float, default None\n",
    "                Threshold to mark on the curve.\n",
    "                \n",
    "    descr : str, default None\n",
    "            Description of the data.\n",
    "    \"\"\" \n",
    "    n_cols = 4\n",
    "    n_rows = ceil(len(y_scores)/n_cols)\n",
    "    aspect = 1\n",
    "    fig = plt.figure(figsize=(20, (n_rows/n_cols)*(20/aspect)))\n",
    "    title = 'Precision-Recall Curve'\n",
    "    if descr is not None: title = title + ' for ' + descr\n",
    "    fig.suptitle(title, fontsize=16)\n",
    " \n",
    "    for counter, key in enumerate(y_scores, 1):\n",
    "        precision, recall, thresholds = precision_recall_curve(\n",
    "            y_true, y_scores[key], pos_label=pos_label)\n",
    "        ax = fig.add_subplot(n_rows, n_cols, counter)\n",
    "        ax.set_ylim(bottom=-0.1, top=1.1)\n",
    "        ax.plot(recall, precision)\n",
    "        x = [0, 1]\n",
    "        if pos_label is None: pos_label = 1\n",
    "        y = [((y_true == pos_label).sum())/len(y_true)]*2\n",
    "        ax.plot(x, y, linestyle='--', linewidth=1, color='red', \n",
    "                alpha=0.5, label='Baseline')\n",
    "        ax.set_xlabel('Recall')\n",
    "        ax.set_ylabel('Precision')    \n",
    "        ax.set_title(key)\n",
    "        \n",
    "        if threshold is not None:\n",
    "            # Find threshold closest to given threshold\n",
    "            close_threshold = np.argmin(np.abs(thresholds - threshold))\n",
    "            ax.plot(recall[close_threshold], precision[close_threshold], \n",
    "                    linestyle='none', marker='o', markersize=6, \n",
    "                    markeredgewidth=2, fillstyle='none', color='black', \n",
    "                    label=f'Threshold {threshold}')        \n",
    "            \n",
    "        ax.legend(loc='lower center')\n",
    "    fig.tight_layout()\n",
    "    fig.subplots_adjust(top=0.75, wspace=0.3, hspace=0.4)       "
   ]
  },
  {
   "cell_type": "code",
   "execution_count": 14,
   "metadata": {},
   "outputs": [],
   "source": [
    "def plot_roc_curves(y_true, y_scores, pos_label=None, threshold=None, \n",
    "                    descr=None):\n",
    "    \"\"\"Plot ROC curves for given true binary labels and predicted decision \n",
    "    values or probabilities of the positive class.\n",
    "        \n",
    "    Parameters\n",
    "    ----------\n",
    "    y_true : array-like, shape [n_samples]\n",
    "        True binary labels. If labels are not either {-1, 1} or {0, 1}, \n",
    "        then pos_label should be explicitly given.\n",
    "        \n",
    "    y_scores : dictionary, with values array-like of shape [n_samples]\n",
    "        Target scores. Predicted decision values (as returned by \n",
    "        decision_function on some classifiers) or probabilities of the \n",
    "        positive class.\n",
    "             \n",
    "    pos_label : int or str, default None\n",
    "        The label of the positive class. When pos_label=None, if y_true is in \n",
    "        {-1, 1} or {0, 1}, pos_label is set to 1, otherwise an error will be \n",
    "        raised.\n",
    "    \n",
    "    threshold : float, default None\n",
    "                Threshold to mark on the curve. \n",
    "                \n",
    "    descr : str, default None\n",
    "            Description of the data.\n",
    "    \"\"\"        \n",
    "    n_cols = 4\n",
    "    n_rows = ceil(len(y_scores)/n_cols)\n",
    "    aspect = 1\n",
    "    fig = plt.figure(figsize=(20, (n_rows/n_cols)*(20/aspect)))\n",
    "    title = 'ROC Curve'\n",
    "    if descr is not None: title = title + ' for ' + descr\n",
    "    fig.suptitle(title, fontsize=16)\n",
    "    \n",
    "    for counter, key in enumerate(y_scores, 1):\n",
    "        fpr, recall, thresholds = roc_curve(\n",
    "            y_true, y_scores[key], pos_label=pos_label)\n",
    "        ax = fig.add_subplot(n_rows, n_cols, counter)\n",
    "        ax.set_ylim(bottom=-0.1, top=1.1)\n",
    "        ax.plot(fpr, recall)\n",
    "        x = [0, 1]\n",
    "        ax.plot(x, x, linestyle='--', linewidth=1, color='red', \n",
    "                alpha=0.5, label='Baseline')\n",
    "        ax.set_xlabel('False Positive Rate')\n",
    "        ax.set_ylabel('Recall (True Positive Rate)')    \n",
    "        ax.set_title(key)\n",
    "        \n",
    "        if threshold is not None:\n",
    "            # Find threshold closest to given threshold       \n",
    "            close_threshold = np.argmin(np.abs(thresholds - threshold))        \n",
    "            ax.plot(fpr[close_threshold], recall[close_threshold], \n",
    "                    linestyle='none', marker='o', markersize=6, \n",
    "                    markeredgewidth=2, fillstyle='none', color='black', \n",
    "                    label=f'Threshold {threshold}')       \n",
    "            \n",
    "        ax.legend(loc='lower center')\n",
    "    fig.tight_layout()\n",
    "    fig.subplots_adjust(top=0.75, wspace=0.3, hspace=0.4)"
   ]
  },
  {
   "cell_type": "markdown",
   "metadata": {},
   "source": [
    "In the two cells below, we define functions that print the area under the \n",
    "Precision-Recall curve and the ROC curve, respectively."
   ]
  },
  {
   "cell_type": "code",
   "execution_count": 15,
   "metadata": {},
   "outputs": [],
   "source": [
    "def print_pr_auc(y_true, y_scores, pos_label=None, descr=None):\n",
    "    \"\"\"Print and return the area under the Precision-Recall curve for given \n",
    "       true binary labels and predicted decision values or probabilities of \n",
    "       the positive class.\n",
    "        \n",
    "    Parameters\n",
    "    ----------\n",
    "    y_true : array-like, shape [n_samples]\n",
    "        True binary labels. If labels are not either {-1, 1} or {0, 1}, \n",
    "        then pos_label should be explicitly given.\n",
    "        \n",
    "    y_scores : dictionary, with values array-like of shape [n_samples]\n",
    "        Target scores. Predicted decision values (as returned by \n",
    "        decision_function on some classifiers) or probabilities of the \n",
    "        positive class.    \n",
    "             \n",
    "    pos_label : int or str, default None\n",
    "        The label of the positive class. When pos_label=None, if y_true is in \n",
    "        {-1, 1} or {0, 1}, pos_label is set to 1, otherwise an error will be \n",
    "        raised.\n",
    "        \n",
    "    descr : str, default None\n",
    "            Description of the data.\n",
    "            \n",
    "    Returns\n",
    "    -------\n",
    "    scores : dictionary\n",
    "             Precision-Recall AUC.\n",
    "    \"\"\"   \n",
    "    title = 'Precision-Recall AUC'\n",
    "    if descr: title = title + ' for ' + descr    \n",
    "    print(title)\n",
    "    print('-'*len(title))\n",
    "    scores = {}\n",
    "    for key in y_scores: \n",
    "        score = average_precision_score(y_true, y_scores[key], \n",
    "                                        pos_label=pos_label)   \n",
    "        scores[key] = round(score, 5)\n",
    "        print(f'{key}:', round(score, 5))\n",
    "    return scores"
   ]
  },
  {
   "cell_type": "code",
   "execution_count": 16,
   "metadata": {},
   "outputs": [],
   "source": [
    "def print_roc_auc(y_true, y_scores, pos_label, descr=None):\n",
    "    \"\"\"Print and return the area under the ROC curve for given true binary \n",
    "       labels and predicted decision values or probabilities of the positive \n",
    "       class.\n",
    "        \n",
    "    Parameters\n",
    "    ----------\n",
    "    y_true : array-like, shape [n_samples]\n",
    "        True binary labels. \n",
    "        \n",
    "    y_scores : dictionary, with values array-like of shape [n_samples]\n",
    "        Target scores. Predicted decision values (as returned by \n",
    "        decision_function on some classifiers) or probabilities of the \n",
    "        positive class.  \n",
    "             \n",
    "    pos_label : int or str\n",
    "               The label of the positive class. \n",
    "        \n",
    "    descr : str, default None\n",
    "            Description of the data.\n",
    "            \n",
    "    Returns\n",
    "    -------\n",
    "    scores : dictionary\n",
    "             ROC AUC.\n",
    "    \"\"\"   \n",
    "    greatest_label = sorted(y_true.unique())[1]\n",
    "    delta = int(greatest_label != pos_label)     \n",
    "    title = 'ROC AUC'\n",
    "    if descr:\n",
    "        title = title + ' for ' + descr    \n",
    "    print(title)\n",
    "    print('-'*len(title))\n",
    "    scores = {}\n",
    "    for key in y_scores: \n",
    "        # roc_auc_score expects decision values or probabilities of the class \n",
    "        # with the greater label, so we feed it either proba or -proba \n",
    "        # depending on the value of delta. It does not matter whether proba \n",
    "        # are probabilities or decision values; negating proba switches the \n",
    "        # classes.\n",
    "        score = roc_auc_score(y_true, (-1)**delta * y_scores[key])  \n",
    "        scores[key] = round(score, 5)\n",
    "        print(f'{key}:', round(score, 5))\n",
    "    return scores"
   ]
  },
  {
   "cell_type": "markdown",
   "metadata": {},
   "source": [
    "To determine the extent of overfitting, we will:\n",
    "\n",
    "* Train each model on the training dataset, and generate predictions for the \n",
    "training dataset. The models are making predictions on seen data.\n",
    "\n",
    "\n",
    "* Generate cross-validated predictions for the training dataset for each \n",
    "model. The models are making predictions on unseen data."
   ]
  },
  {
   "cell_type": "code",
   "execution_count": 17,
   "metadata": {
    "scrolled": true
   },
   "outputs": [
    {
     "name": "stdout",
     "output_type": "stream",
     "text": [
      "Progress Report\n",
      "---------------\n"
     ]
    },
    {
     "name": "stderr",
     "output_type": "stream",
     "text": [
      "[Parallel(n_jobs=-1)]: Using backend LokyBackend with 36 concurrent workers.\n",
      "[Parallel(n_jobs=-1)]: Done   1 tasks      | elapsed: 112.8min\n",
      "[Parallel(n_jobs=-1)]: Done   2 out of   4 | elapsed: 113.7min remaining: 113.7min\n",
      "[Parallel(n_jobs=-1)]: Done   4 out of   4 | elapsed: 118.8min remaining:    0.0s\n",
      "[Parallel(n_jobs=-1)]: Done   4 out of   4 | elapsed: 118.8min finished\n"
     ]
    },
    {
     "name": "stdout",
     "output_type": "stream",
     "text": [
      "CPU times: user 4.17 s, sys: 7.1 s, total: 11.3 s\n",
      "Wall time: 1h 58min 48s\n"
     ]
    }
   ],
   "source": [
    "%%time\n",
    "# Train each model on the training dataset, and get the decision value or \n",
    "# probability of 'Charge Off' for each instance in the training dataset.\n",
    "# Perform the task in parallel using all available CPUs.\n",
    "print('Progress Report')\n",
    "print('---------------')\n",
    "def train_model(X, y, clf):\n",
    "    return clf.fit(X, y)    \n",
    "parallel = Parallel(n_jobs=-1, verbose=10)\n",
    "# Create a list of tasks to be performed; the function 'delayed' ensures that \n",
    "# the function 'train_model' is not called immediately.\n",
    "tasks = [delayed(train_model)(loan_data_train, loan_data_train_labels, clf) \n",
    "         for clf in clfs]\n",
    "# Performs the tasks.\n",
    "clfs = parallel(tasks)\n",
    "sleep(2)"
   ]
  },
  {
   "cell_type": "markdown",
   "metadata": {},
   "source": [
    "We gather data needed to determine the performance of each model on the \n",
    "training dataset (seen data):"
   ]
  },
  {
   "cell_type": "code",
   "execution_count": 18,
   "metadata": {},
   "outputs": [],
   "source": [
    "# Create a dictionary with model names as keys, and models as values.\n",
    "models = dict(zip(clf_names, clfs))\n",
    "\n",
    "# Create a dictionary with model names as keys, and arrays as values, \n",
    "# consiting of the decision value or probability of 'Charge Off' for each \n",
    "# instance in the training dataset (seen).\n",
    "target_scores_seen = {}\n",
    "for key in models:\n",
    "    if hasattr(models[key], 'decision_function'): \n",
    "        # The function 'decision_function' returns the values of the class \n",
    "        # with the greater label, which in our case is 'Fully Paid', so we \n",
    "        # negate the values.\n",
    "        target_scores_seen[key] = -models[key].decision_function(\n",
    "            loan_data_train)   \n",
    "    else:\n",
    "        target_scores_seen[key] = models[key].predict_proba(\n",
    "            loan_data_train)[:, 0]        "
   ]
  },
  {
   "cell_type": "markdown",
   "metadata": {},
   "source": [
    "Let's plot the Precision-Recall curves for the decision value or probability\n",
    "predictions generated by each model for the training dataset (seen data):"
   ]
  },
  {
   "cell_type": "code",
   "execution_count": 19,
   "metadata": {},
   "outputs": [
    {
     "data": {
      "image/png": "[encoded data removed]",
      "text/plain": [
       "<Figure size 1440x360 with 4 Axes>"
      ]
     },
     "metadata": {},
     "output_type": "display_data"
    }
   ],
   "source": [
    "plot_pr_curves(loan_data_train_labels, target_scores_seen, \n",
    "               pos_label='Charged Off', descr='Seen Data')"
   ]
  },
  {
   "cell_type": "markdown",
   "metadata": {},
   "source": [
    "We observe that the Random Forest model has a perfect score, which is to be \n",
    "expected because by default the nodes in each tree are expanded until all \n",
    "leaves are pure or until all leaves contain less than min_samples_split \n",
    "samples (2 by default). Essentially, the model is memorizing the training\n",
    "data."
   ]
  },
  {
   "cell_type": "markdown",
   "metadata": {},
   "source": [
    "Let's print the Precision-Recall AUC for each model for seen data :"
   ]
  },
  {
   "cell_type": "code",
   "execution_count": 20,
   "metadata": {},
   "outputs": [
    {
     "name": "stdout",
     "output_type": "stream",
     "text": [
      "Precision-Recall AUC for Seen Data\n",
      "----------------------------------\n",
      "Logistic Regression: 0.37531\n",
      "Random Forest: 1.0\n",
      "Linear Discriminant Analysis: 0.3736\n",
      "K-Nearest Neighbors: 0.50454\n"
     ]
    }
   ],
   "source": [
    "scores_pr_seen = print_pr_auc(loan_data_train_labels, target_scores_seen, \n",
    "                              pos_label='Charged Off', descr='Seen Data')"
   ]
  },
  {
   "cell_type": "markdown",
   "metadata": {},
   "source": [
    "Let's plot the ROC curves for the decision value or probability predictions \n",
    "generated by each model for the training dataset (seen data):"
   ]
  },
  {
   "cell_type": "code",
   "execution_count": 21,
   "metadata": {},
   "outputs": [
    {
     "data": {
      "image/png": "[encoded data removed]",
      "text/plain": [
       "<Figure size 1440x360 with 4 Axes>"
      ]
     },
     "metadata": {},
     "output_type": "display_data"
    }
   ],
   "source": [
    "plot_roc_curves(loan_data_train_labels, target_scores_seen, \n",
    "                pos_label='Charged Off', descr='Seen Data')"
   ]
  },
  {
   "cell_type": "markdown",
   "metadata": {},
   "source": [
    "Let's print the ROC AUC for each model for seen data:"
   ]
  },
  {
   "cell_type": "code",
   "execution_count": 22,
   "metadata": {},
   "outputs": [
    {
     "name": "stdout",
     "output_type": "stream",
     "text": [
      "ROC AUC for Seen Data\n",
      "---------------------\n",
      "Logistic Regression: 0.71218\n",
      "Random Forest: 1.0\n",
      "Linear Discriminant Analysis: 0.71213\n",
      "K-Nearest Neighbors: 0.84281\n"
     ]
    }
   ],
   "source": [
    "scores_roc_seen = print_roc_auc(loan_data_train_labels, target_scores_seen, \n",
    "                                pos_label='Charged Off', descr='Seen Data')"
   ]
  },
  {
   "cell_type": "markdown",
   "metadata": {},
   "source": [
    "We gather data needed to determine the cross-validated performance of the \n",
    "models on the the training dataset (unseen data):"
   ]
  },
  {
   "cell_type": "code",
   "execution_count": 23,
   "metadata": {},
   "outputs": [
    {
     "name": "stdout",
     "output_type": "stream",
     "text": [
      "Progress Report\n",
      "---------------\n"
     ]
    },
    {
     "name": "stderr",
     "output_type": "stream",
     "text": [
      "[Parallel(n_jobs=-1)]: Using backend LokyBackend with 36 concurrent workers.\n",
      "[Parallel(n_jobs=-1)]: Done   2 out of   5 | elapsed: 91.2min remaining: 136.9min\n",
      "[Parallel(n_jobs=-1)]: Done   3 out of   5 | elapsed: 91.3min remaining: 60.9min\n",
      "[Parallel(n_jobs=-1)]: Done   5 out of   5 | elapsed: 91.5min remaining:    0.0s\n",
      "[Parallel(n_jobs=-1)]: Done   5 out of   5 | elapsed: 91.5min finished\n"
     ]
    },
    {
     "name": "stdout",
     "output_type": "stream",
     "text": [
      "Logistic Regression: Done\n"
     ]
    },
    {
     "name": "stderr",
     "output_type": "stream",
     "text": [
      "[Parallel(n_jobs=-1)]: Using backend LokyBackend with 36 concurrent workers.\n",
      "[Parallel(n_jobs=-1)]: Done   2 out of   5 | elapsed: 90.0min remaining: 135.1min\n",
      "[Parallel(n_jobs=-1)]: Done   3 out of   5 | elapsed: 90.1min remaining: 60.1min\n",
      "[Parallel(n_jobs=-1)]: Done   5 out of   5 | elapsed: 91.0min remaining:    0.0s\n",
      "[Parallel(n_jobs=-1)]: Done   5 out of   5 | elapsed: 91.0min finished\n"
     ]
    },
    {
     "name": "stdout",
     "output_type": "stream",
     "text": [
      "Random Forest: Done\n"
     ]
    },
    {
     "name": "stderr",
     "output_type": "stream",
     "text": [
      "[Parallel(n_jobs=-1)]: Using backend LokyBackend with 36 concurrent workers.\n",
      "[Parallel(n_jobs=-1)]: Done   2 out of   5 | elapsed: 79.5min remaining: 119.2min\n",
      "[Parallel(n_jobs=-1)]: Done   3 out of   5 | elapsed: 84.8min remaining: 56.5min\n",
      "[Parallel(n_jobs=-1)]: Done   5 out of   5 | elapsed: 85.3min remaining:    0.0s\n",
      "[Parallel(n_jobs=-1)]: Done   5 out of   5 | elapsed: 85.3min finished\n"
     ]
    },
    {
     "name": "stdout",
     "output_type": "stream",
     "text": [
      "Linear Discriminant Analysis: Done\n"
     ]
    },
    {
     "name": "stderr",
     "output_type": "stream",
     "text": [
      "[Parallel(n_jobs=-1)]: Using backend LokyBackend with 36 concurrent workers.\n",
      "[Parallel(n_jobs=-1)]: Done   2 out of   5 | elapsed: 88.5min remaining: 132.8min\n",
      "[Parallel(n_jobs=-1)]: Done   3 out of   5 | elapsed: 89.1min remaining: 59.4min\n",
      "[Parallel(n_jobs=-1)]: Done   5 out of   5 | elapsed: 89.8min remaining:    0.0s\n",
      "[Parallel(n_jobs=-1)]: Done   5 out of   5 | elapsed: 89.8min finished\n"
     ]
    },
    {
     "name": "stdout",
     "output_type": "stream",
     "text": [
      "K-Nearest Neighbors: Done\n",
      "CPU times: user 12.4 s, sys: 7.68 s, total: 20.1 s\n",
      "Wall time: 5h 57min 41s\n"
     ]
    }
   ],
   "source": [
    "%%time\n",
    "# Generate cross-validated decision value or probability of 'Charge Off' for \n",
    "# each instance in the training dataset for each model. Store the values in \n",
    "# a dictionary with model names as keys, and arrays as values.\n",
    "print('Progress Report')\n",
    "print('---------------')\n",
    "target_scores_unseen = {}\n",
    "for key in models:\n",
    "    if hasattr(models[key], 'decision_function'):\n",
    "        # The function 'decision_function' returns the values of the class \n",
    "        # with the greater label, which in our case is 'Fully Paid', so we \n",
    "        # negate the values.\n",
    "        target_scores_unseen[key] = -cross_val_predict(\n",
    "            models[key], loan_data_train, loan_data_train_labels, cv=5, \n",
    "            method='decision_function', n_jobs=-1, verbose=10)\n",
    "    else:\n",
    "        target_scores_unseen[key] = cross_val_predict(\n",
    "            models[key], loan_data_train, loan_data_train_labels, cv=5, \n",
    "            method='predict_proba', n_jobs=-1, verbose=10)[:, 0]\n",
    "    print(f'{key}: Done')\n",
    "sleep(2)"
   ]
  },
  {
   "cell_type": "markdown",
   "metadata": {},
   "source": [
    "Let's plot the Precision-Recall curves for the cross-validated decision value \n",
    "or probability predictions generated by each model for the training dataset \n",
    "(unseen data):"
   ]
  },
  {
   "cell_type": "code",
   "execution_count": 24,
   "metadata": {},
   "outputs": [
    {
     "data": {
      "image/png": "[encoded data removed]",
      "text/plain": [
       "<Figure size 1440x360 with 4 Axes>"
      ]
     },
     "metadata": {},
     "output_type": "display_data"
    }
   ],
   "source": [
    "plot_pr_curves(loan_data_train_labels, target_scores_unseen, \n",
    "               pos_label='Charged Off', descr='Unseen Data')"
   ]
  },
  {
   "cell_type": "markdown",
   "metadata": {},
   "source": [
    "Let's print the Precision-Recall AUC for each model for unseen data:"
   ]
  },
  {
   "cell_type": "code",
   "execution_count": 25,
   "metadata": {},
   "outputs": [
    {
     "name": "stdout",
     "output_type": "stream",
     "text": [
      "Precision-Recall AUC for Unseen Data\n",
      "------------------------------------\n",
      "Logistic Regression: 0.375\n",
      "Random Forest: 0.37163\n",
      "Linear Discriminant Analysis: 0.37332\n",
      "K-Nearest Neighbors: 0.26292\n"
     ]
    }
   ],
   "source": [
    "scores_pr_unseen = print_pr_auc(loan_data_train_labels, target_scores_unseen, \n",
    "                                pos_label='Charged Off', descr='Unseen Data')"
   ]
  },
  {
   "cell_type": "markdown",
   "metadata": {},
   "source": [
    "Let's plot the ROC curves for the cross-validated decision value or \n",
    "probability predictions generated by each model for the training dataset \n",
    "(unseen data):"
   ]
  },
  {
   "cell_type": "code",
   "execution_count": 26,
   "metadata": {},
   "outputs": [
    {
     "data": {
      "image/png": "[encoded data removed]",
      "text/plain": [
       "<Figure size 1440x360 with 4 Axes>"
      ]
     },
     "metadata": {},
     "output_type": "display_data"
    }
   ],
   "source": [
    "plot_roc_curves(loan_data_train_labels, target_scores_unseen, \n",
    "                pos_label='Charged Off', descr='Unseen Data')"
   ]
  },
  {
   "cell_type": "markdown",
   "metadata": {},
   "source": [
    "Let's print the ROC AUC for each model for unseen data:"
   ]
  },
  {
   "cell_type": "code",
   "execution_count": 27,
   "metadata": {},
   "outputs": [
    {
     "name": "stdout",
     "output_type": "stream",
     "text": [
      "ROC AUC for Unseen Data\n",
      "-----------------------\n",
      "Logistic Regression: 0.71195\n",
      "Random Forest: 0.7081\n",
      "Linear Discriminant Analysis: 0.7119\n",
      "K-Nearest Neighbors: 0.61126\n"
     ]
    }
   ],
   "source": [
    "scores_roc_unseen = print_roc_auc(\n",
    "    loan_data_train_labels, target_scores_unseen, pos_label='Charged Off', \n",
    "    descr='Unseen Data')"
   ]
  },
  {
   "cell_type": "markdown",
   "metadata": {},
   "source": [
    "Let's summarize the results obtained thus far:\n",
    "\n"
   ]
  },
  {
   "cell_type": "code",
   "execution_count": 28,
   "metadata": {},
   "outputs": [
    {
     "data": {
      "text/html": [
       "<div>\n",
       "<style scoped>\n",
       "    .dataframe tbody tr th:only-of-type {\n",
       "        vertical-align: middle;\n",
       "    }\n",
       "\n",
       "    .dataframe tbody tr th {\n",
       "        vertical-align: top;\n",
       "    }\n",
       "\n",
       "    .dataframe thead tr th {\n",
       "        text-align: left;\n",
       "    }\n",
       "</style>\n",
       "<table border=\"1\" class=\"dataframe\">\n",
       "  <thead>\n",
       "    <tr>\n",
       "      <th></th>\n",
       "      <th colspan=\"2\" halign=\"left\">Precision-Recall AUC</th>\n",
       "      <th colspan=\"2\" halign=\"left\">ROC AUC</th>\n",
       "    </tr>\n",
       "    <tr>\n",
       "      <th></th>\n",
       "      <th>Seen</th>\n",
       "      <th>Unseen</th>\n",
       "      <th>Seen</th>\n",
       "      <th>Unseen</th>\n",
       "    </tr>\n",
       "  </thead>\n",
       "  <tbody>\n",
       "    <tr>\n",
       "      <th>Logistic Regression</th>\n",
       "      <td>0.37531</td>\n",
       "      <td>0.37500</td>\n",
       "      <td>0.71218</td>\n",
       "      <td>0.71195</td>\n",
       "    </tr>\n",
       "    <tr>\n",
       "      <th>Random Forest</th>\n",
       "      <td>1.00000</td>\n",
       "      <td>0.37163</td>\n",
       "      <td>1.00000</td>\n",
       "      <td>0.70810</td>\n",
       "    </tr>\n",
       "    <tr>\n",
       "      <th>Linear Discriminant Analysis</th>\n",
       "      <td>0.37360</td>\n",
       "      <td>0.37332</td>\n",
       "      <td>0.71213</td>\n",
       "      <td>0.71190</td>\n",
       "    </tr>\n",
       "    <tr>\n",
       "      <th>K-Nearest Neighbors</th>\n",
       "      <td>0.50454</td>\n",
       "      <td>0.26292</td>\n",
       "      <td>0.84281</td>\n",
       "      <td>0.61126</td>\n",
       "    </tr>\n",
       "  </tbody>\n",
       "</table>\n",
       "</div>"
      ],
      "text/plain": [
       "                             Precision-Recall AUC         ROC AUC        \n",
       "                                             Seen  Unseen    Seen  Unseen\n",
       "Logistic Regression                       0.37531 0.37500 0.71218 0.71195\n",
       "Random Forest                             1.00000 0.37163 1.00000 0.70810\n",
       "Linear Discriminant Analysis              0.37360 0.37332 0.71213 0.71190\n",
       "K-Nearest Neighbors                       0.50454 0.26292 0.84281 0.61126"
      ]
     },
     "execution_count": 28,
     "metadata": {},
     "output_type": "execute_result"
    }
   ],
   "source": [
    "# Gather the Precision-Recall scores into a dataframe.\n",
    "df_pr = pd.DataFrame({\n",
    "    'Seen': [scores_pr_seen[key] for key in clf_names],\n",
    "    'Unseen': [scores_pr_unseen[key] for key in clf_names]\n",
    "}, index=clf_names)\n",
    "\n",
    "# Gather the ROC scores into a dataframe.\n",
    "df_roc = pd.DataFrame({\n",
    "    'Seen': [scores_roc_seen[key] for key in clf_names],\n",
    "    'Unseen': [scores_roc_unseen[key] for key in clf_names]\n",
    "}, index=clf_names)\n",
    "\n",
    "# Concatenate the two dataframes.\n",
    "df = pd.concat([df_pr, df_roc], axis=1, \n",
    "               keys=['Precision-Recall AUC', 'ROC AUC'])\n",
    "\n",
    "# Round to five decimal places in pandas. \n",
    "pd.options.display.float_format = '{:.5f}'.format\n",
    "df"
   ]
  },
  {
   "cell_type": "markdown",
   "metadata": {},
   "source": [
    "Based on the information gathered above, we observe that:\n",
    "\n",
    "* All models are overfitting the training data. This is particularly \n",
    "severe for the Random Forest and K-Nearest Neighbors models.\n",
    "\n",
    "\n",
    "* The K-Nearest Neighbors model is performing poorly. In general, the \n",
    "baseline for ROC AUC is 0.5, and the baseline for Precision-Recall AUC\n",
    "is equal to the proportion of the data that belongs to the positive class. \n",
    "In our case, the positive class proportion is approximately 0.2, and so\n",
    "the Precision-Recall AUC baseline is 0.2. The performance of the \n",
    "K-Nearest Neighbors model in terms of the Presicion-Recall AUC metric\n",
    "is barely above the baseline.\n",
    "\n",
    "\n",
    "* The three best models in terms of both metrics are Logistic Regression,\n",
    "Linear Discriminant Analysis, and Random Forest. There are no \n",
    "meaningful hyperparameters to tune for the Linear Discriminant Analysis \n",
    "model. We will tune the hyperparameter for the Logistic Regression and the\n",
    "Random Forest model, with an aim to reduce overfitting. Since the two \n",
    "metrics seem to give identical rankings, we will restrict ourselves to the \n",
    "ROC AUC metric in what follows."
   ]
  },
  {
   "cell_type": "markdown",
   "metadata": {},
   "source": [
    "## 3. Tune Hyperparameters and Select the Best Model"
   ]
  },
  {
   "cell_type": "markdown",
   "metadata": {},
   "source": [
    "We begin by tuning hyperparameters for the Logistic Regression model. \n",
    "The parameter grid below was arrived at after some experimentation, which \n",
    "is not shown in this notebook."
   ]
  },
  {
   "cell_type": "code",
   "execution_count": 29,
   "metadata": {},
   "outputs": [
    {
     "name": "stdout",
     "output_type": "stream",
     "text": [
      "Progress Report\n",
      "---------------\n",
      "Fitting 5 folds for each of 12 candidates, totalling 60 fits\n"
     ]
    },
    {
     "name": "stderr",
     "output_type": "stream",
     "text": [
      "[Parallel(n_jobs=-1)]: Using backend LokyBackend with 36 concurrent workers.\n",
      "[Parallel(n_jobs=-1)]: Done   1 tasks      | elapsed: 584.7min\n",
      "[Parallel(n_jobs=-1)]: Done   3 out of  60 | elapsed: 586.1min remaining: 11135.8min\n",
      "[Parallel(n_jobs=-1)]: Done  10 out of  60 | elapsed: 587.3min remaining: 2936.6min\n",
      "[Parallel(n_jobs=-1)]: Done  17 out of  60 | elapsed: 588.0min remaining: 1487.3min\n",
      "[Parallel(n_jobs=-1)]: Done  24 out of  60 | elapsed: 588.5min remaining: 882.8min\n",
      "[Parallel(n_jobs=-1)]: Done  31 out of  60 | elapsed: 589.7min remaining: 551.6min\n",
      "[Parallel(n_jobs=-1)]: Done  38 out of  60 | elapsed: 863.5min remaining: 499.9min\n",
      "[Parallel(n_jobs=-1)]: Done  45 out of  60 | elapsed: 870.0min remaining: 290.0min\n",
      "[Parallel(n_jobs=-1)]: Done  52 out of  60 | elapsed: 930.3min remaining: 143.1min\n",
      "[Parallel(n_jobs=-1)]: Done  60 out of  60 | elapsed: 935.7min finished\n"
     ]
    },
    {
     "name": "stdout",
     "output_type": "stream",
     "text": [
      "CPU times: user 48.8 s, sys: 11.7 s, total: 1min\n",
      "Wall time: 15h 35min 44s\n"
     ]
    }
   ],
   "source": [
    "%%time\n",
    "# Hyperparameter grid for logistic regression. Recall that C denotes the\n",
    "# inverse of the regularization strength.\n",
    "param_grid_logreg = [\n",
    "    {'classifier__solver': ['saga'], 'classifier__penalty': ['l1', 'l2'], \n",
    "     'classifier__C': [1/2, 1/3, 1/4, 1/5]},\n",
    "    {'classifier__solver': ['lbfgs'], 'classifier__penalty': ['l2'], \n",
    "     'classifier__C': [1/2, 1/3, 1/4, 1/5]}\n",
    "]\n",
    "grid_search_cv_logreg = GridSearchCV(logreg_clf, param_grid_logreg, cv=5, \n",
    "                                     scoring='roc_auc', refit=False,\n",
    "                                     n_jobs=-1, verbose=10)\n",
    "print('Progress Report')\n",
    "print('---------------')\n",
    "grid_search_cv_logreg.fit(loan_data_train, loan_data_train_labels)\n",
    "sleep(2)"
   ]
  },
  {
   "cell_type": "markdown",
   "metadata": {},
   "source": [
    "Next, we tune hyperparameters for the Random Forest model:"
   ]
  },
  {
   "cell_type": "code",
   "execution_count": 30,
   "metadata": {},
   "outputs": [
    {
     "name": "stdout",
     "output_type": "stream",
     "text": [
      "Progress Report\n",
      "---------------\n",
      "Fitting 5 folds for each of 20 candidates, totalling 100 fits\n"
     ]
    },
    {
     "name": "stderr",
     "output_type": "stream",
     "text": [
      "[Parallel(n_jobs=-1)]: Using backend LokyBackend with 36 concurrent workers.\n",
      "[Parallel(n_jobs=-1)]: Done  13 tasks      | elapsed: 585.8min\n",
      "[Parallel(n_jobs=-1)]: Done  26 tasks      | elapsed: 588.8min\n",
      "[Parallel(n_jobs=-1)]: Done  40 out of 100 | elapsed: 1129.9min remaining: 1694.8min\n",
      "[Parallel(n_jobs=-1)]: Done  51 out of 100 | elapsed: 1144.0min remaining: 1099.1min\n",
      "[Parallel(n_jobs=-1)]: Done  62 out of 100 | elapsed: 1149.8min remaining: 704.7min\n",
      "[Parallel(n_jobs=-1)]: Done  73 out of 100 | elapsed: 1402.3min remaining: 518.6min\n",
      "[Parallel(n_jobs=-1)]: Done  84 out of 100 | elapsed: 1513.1min remaining: 288.2min\n",
      "[Parallel(n_jobs=-1)]: Done  95 out of 100 | elapsed: 1536.9min remaining: 80.9min\n",
      "[Parallel(n_jobs=-1)]: Done 100 out of 100 | elapsed: 1541.9min finished\n"
     ]
    },
    {
     "name": "stdout",
     "output_type": "stream",
     "text": [
      "CPU times: user 1min 32s, sys: 24.1 s, total: 1min 56s\n",
      "Wall time: 1d 1h 41min 55s\n"
     ]
    }
   ],
   "source": [
    "%%time\n",
    "# Hyperparameter grid for random forest.  The default for max_features is\n",
    "# sqrt(n_features); in the present case, n_features = 106, and so \n",
    "# the default value of max_features is 10.\n",
    "param_grid_rnd_forest = [\n",
    "    {'classifier__max_depth': [6, 9, 12, 15],\n",
    "     'classifier__max_features': [8, 9, 10, 11, 12]}\n",
    "]\n",
    "\n",
    "grid_search_cv_rnd_forest = GridSearchCV(\n",
    "    rnd_forest_clf, param_grid_rnd_forest, cv=5, scoring='roc_auc', \n",
    "    refit=False, n_jobs=-1, verbose=10)\n",
    "print('Progress Report')\n",
    "print('---------------')\n",
    "grid_search_cv_rnd_forest.fit(loan_data_train, loan_data_train_labels)\n",
    "sleep(2)"
   ]
  },
  {
   "cell_type": "markdown",
   "metadata": {},
   "source": [
    "Let's print the best cross-validated mean scores and best hyperparameters for \n",
    "our two models:"
   ]
  },
  {
   "cell_type": "code",
   "execution_count": 31,
   "metadata": {},
   "outputs": [
    {
     "name": "stdout",
     "output_type": "stream",
     "text": [
      "Logistic Regression\n",
      "-------------------\n",
      "Best Score: 0.71195\n",
      "Best Hyperparameters:\n",
      "    C: 0.2\n",
      "    penalty: l2\n",
      "    solver: lbfgs\n",
      "\n",
      "\n",
      "Random Forest\n",
      "-------------\n",
      "Best Score: 0.71555\n",
      "Best Hyperparameters:\n",
      "    max_depth: 15\n",
      "    max_features: 12\n"
     ]
    }
   ],
   "source": [
    "print('Logistic Regression')\n",
    "print('-------------------')\n",
    "print(f'Best Score: {round(grid_search_cv_logreg.best_score_, 5)}')\n",
    "print('Best Hyperparameters:')\n",
    "for key in grid_search_cv_logreg.best_params_:\n",
    "    print(f'    {key[12:]}:', grid_search_cv_logreg.best_params_[key])\n",
    "    \n",
    "print('\\n\\nRandom Forest')\n",
    "print('-------------')\n",
    "print(f'Best Score: {round(grid_search_cv_rnd_forest.best_score_, 5)}')\n",
    "print('Best Hyperparameters:')\n",
    "for key in grid_search_cv_rnd_forest.best_params_:\n",
    "    print(f'    {key[12:]}:', grid_search_cv_rnd_forest.best_params_[key])"
   ]
  },
  {
   "cell_type": "markdown",
   "metadata": {},
   "source": [
    "Hyperparameter tuning did not help much. We choose the Logistic \n",
    "Regression model as our final model, even though the Random Forest model\n",
    "has a slightly better score. The chosen model has the added advantage that \n",
    "it is naturally well-calibrated in terms of output probabilities, a \n",
    "beneficial feature given than our model will serve as the backend of a web \n",
    "app that predicts the probability that a given loan will be charged-off."
   ]
  },
  {
   "cell_type": "code",
   "execution_count": 32,
   "metadata": {},
   "outputs": [],
   "source": [
    "final_model = logreg_clf.set_params(**grid_search_cv_logreg.best_params_)"
   ]
  },
  {
   "cell_type": "markdown",
   "metadata": {},
   "source": [
    "Let's train the final model on the full training dataset:"
   ]
  },
  {
   "cell_type": "code",
   "execution_count": 33,
   "metadata": {},
   "outputs": [
    {
     "name": "stdout",
     "output_type": "stream",
     "text": [
      "Progress Report\n",
      "---------------\n",
      "CPU times: user 1h 8min 12s, sys: 4.99 s, total: 1h 8min 17s\n",
      "Wall time: 1h 6min 12s\n"
     ]
    }
   ],
   "source": [
    "%%time\n",
    "print('Progress Report')\n",
    "print('---------------')\n",
    "_ = final_model.fit(loan_data_train, loan_data_train_labels)"
   ]
  },
  {
   "cell_type": "code",
   "execution_count": 34,
   "metadata": {},
   "outputs": [],
   "source": [
    "# Read the test data into a pandas dataframe.\n",
    "loan_data_test = pd.read_hdf('data/loan_data_train_and_test.hd5', key='test')"
   ]
  },
  {
   "cell_type": "code",
   "execution_count": 35,
   "metadata": {},
   "outputs": [
    {
     "name": "stdout",
     "output_type": "stream",
     "text": [
      "Size of the test dataset: 269062 rows and 28 columns\n"
     ]
    }
   ],
   "source": [
    "n_rows, n_cols = loan_data_test.shape\n",
    "print(f'Size of the test dataset: {n_rows} rows and {n_cols} columns')"
   ]
  },
  {
   "cell_type": "markdown",
   "metadata": {},
   "source": [
    "Let’s separate the predictor features and the target feature (labels):"
   ]
  },
  {
   "cell_type": "code",
   "execution_count": 36,
   "metadata": {},
   "outputs": [],
   "source": [
    "loan_data_test_labels = loan_data_test['loan_status'].copy()\n",
    "loan_data_test.drop(columns=['loan_status'], inplace=True)"
   ]
  },
  {
   "cell_type": "markdown",
   "metadata": {},
   "source": [
    "Let's evaluate the final model on the test set:"
   ]
  },
  {
   "cell_type": "code",
   "execution_count": 37,
   "metadata": {},
   "outputs": [
    {
     "name": "stdout",
     "output_type": "stream",
     "text": [
      "ROC AUC for Test Data\n",
      "---------------------\n",
      "Final Model (Logistic Regression): 0.71159\n"
     ]
    }
   ],
   "source": [
    "# The function 'decision_function' returns the values of the class with the \n",
    "# greater label, which in our case is 'Fully Paid', so we negate the values.\n",
    "target_scores_test = -final_model.decision_function(loan_data_test)\n",
    "_ = print_roc_auc(loan_data_test_labels, \n",
    "                 {'Final Model (Logistic Regression)': target_scores_test}, \n",
    "                 pos_label='Charged Off', descr='Test Data')"
   ]
  },
  {
   "cell_type": "code",
   "execution_count": 38,
   "metadata": {},
   "outputs": [
    {
     "name": "stdout",
     "output_type": "stream",
     "text": [
      "Size of the full dataset: 1345306 rows and 27 columns\n"
     ]
    }
   ],
   "source": [
    "# Concatenate the training and test datasets.\n",
    "loan_data = pd.concat([loan_data_train, loan_data_test], axis=0)\n",
    "loan_data_labels = pd.concat([loan_data_train_labels, loan_data_test_labels], \n",
    "                             axis=0)\n",
    "\n",
    "n_rows, n_cols = loan_data.shape\n",
    "print(f'Size of the full dataset: {n_rows} rows and {n_cols} columns')"
   ]
  },
  {
   "cell_type": "markdown",
   "metadata": {},
   "source": [
    "Before saving the final model, let's train it on the full dataset:"
   ]
  },
  {
   "cell_type": "code",
   "execution_count": 39,
   "metadata": {},
   "outputs": [
    {
     "name": "stdout",
     "output_type": "stream",
     "text": [
      "Progress Report\n",
      "---------------\n",
      "CPU times: user 1h 51min 43s, sys: 11.3 s, total: 1h 51min 54s\n",
      "Wall time: 1h 49min 20s\n"
     ]
    }
   ],
   "source": [
    "%%time\n",
    "print('Progress Report')\n",
    "print('---------------')\n",
    "_ = final_model.fit(loan_data, loan_data_labels)"
   ]
  },
  {
   "cell_type": "code",
   "execution_count": 40,
   "metadata": {},
   "outputs": [],
   "source": [
    "# Save the final model.\n",
    "dill.dump(final_model, open('final_model.pkl', 'wb'))"
   ]
  }
 ],
 "metadata": {
  "kernelspec": {
   "display_name": "Python 3",
   "language": "python",
   "name": "python3"
  },
  "language_info": {
   "codemirror_mode": {
    "name": "ipython",
    "version": 3
   },
   "file_extension": ".py",
   "mimetype": "text/x-python",
   "name": "python",
   "nbconvert_exporter": "python",
   "pygments_lexer": "ipython3",
   "version": "3.8.3"
  }
 },
 "nbformat": 4,
 "nbformat_minor": 4
}
