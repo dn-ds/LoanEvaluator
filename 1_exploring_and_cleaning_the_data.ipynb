{
 "cells": [
  {
   "cell_type": "markdown",
   "metadata": {},
   "source": [
    "# Exploring and Cleaning the Data\n",
    "\n",
    "**Goals:** Discard unusable features, understand remaining features,\n",
    "split the data into train and test sets.\n",
    "\n",
    "**Summary:** The primary purpose of this notebook is to understand the \n",
    "LendingClub load dataset, and to prepare it for exploratory data \n",
    "analysis. We begin by loading the raw LendingClub loan dataset into \n",
    "a pandas dataframe. We summarize below our findings and the actions \n",
    "taken to achieve the stated goals.\n",
    "\n",
    "1.  **Discard unusable features**: Features that are unavailable to \n",
    "the potential investor at the time of investment are identified and\n",
    "dropped. In addition, we drop features that have only one unique value; \n",
    "such features, of course, add no value. We also drop features that \n",
    "are missing more than 30% of the values; in general it is difficult to \n",
    "accurately impute values for such features. \n",
    "\n",
    "\n",
    "2.  **Understand the numerical features:** After discarding unusable \n",
    "features, we are left with 15 numerical features. We study each of these\n",
    "features carefully, plotting their histograms, and taking a look at \n",
    "various statistics. We observe that the features have very different \n",
    "scales, and some features have tail-heavy histograms, that is,\n",
    "they extend much farther to the right of the median than to the left.\n",
    "Since the presence of different scales and tail-heavy histograms \n",
    "may make some machine learning algorithms perform poorly, \n",
    "we will consider remedies later.\n",
    "\n",
    "\n",
    "3.  **Understand the categorical features:** After discarding unusable \n",
    "features, we are left with 16 categorical features. We study each of \n",
    "these features carefully, making their count plots, and taking a\n",
    "look at some statistics. We identify the ordinal and nominal features,\n",
    "which will be processed later using an ordinal encoder and a \n",
    "one-hot encoder, respectively.\n",
    "\n",
    "\n",
    "4.  **Split the data into training and test sets:** In order to avoid \n",
    "data snooping bias, we put aside a test set, which we will not use until\n",
    "it is time to evaluate our final machine learning model."
   ]
  },
  {
   "cell_type": "code",
   "execution_count": 1,
   "metadata": {},
   "outputs": [],
   "source": [
    "# Load required packages and modules.\n",
    "import numpy as np\n",
    "import pandas as pd\n",
    "import matplotlib.pyplot as plt\n",
    "import matplotlib.gridspec\n",
    "import seaborn as sns\n",
    "from math import ceil, floor, log\n",
    "import plotly.graph_objects as go\n",
    "from matplotlib.ticker import PercentFormatter\n",
    "from warnings import simplefilter\n",
    "from sklearn.model_selection import train_test_split\n",
    "\n",
    "# Suppress performance and data type warnings.\n",
    "simplefilter(action='ignore', category=pd.errors.PerformanceWarning)\n",
    "\n",
    "# Set the backend of matplotlib to 'inline'.\n",
    "%matplotlib inline\n",
    "\n",
    "# Create plots using seaborn's default aesthetic arguments. \n",
    "sns.set()\n",
    "\n",
    "# Make this notebook's output identical across runs.\n",
    "np.random.seed(1)"
   ]
  },
  {
   "cell_type": "code",
   "execution_count": 2,
   "metadata": {},
   "outputs": [],
   "source": [
    "# Read the data into a pandas dataframe.\n",
    "loan_data = pd.read_csv(\n",
    "    'data/accepted_lending_club_loan_data_2007_to_2018Q4.csv.gz', \n",
    "    compression='gzip',\n",
    "    low_memory=False)"
   ]
  },
  {
   "cell_type": "markdown",
   "metadata": {},
   "source": [
    "Let's take a look at first five rows of the dataset, chosen randomly:"
   ]
  },
  {
   "cell_type": "code",
   "execution_count": 3,
   "metadata": {},
   "outputs": [
    {
     "data": {
      "text/html": [
       "<div>\n",
       "<style scoped>\n",
       "    .dataframe tbody tr th:only-of-type {\n",
       "        vertical-align: middle;\n",
       "    }\n",
       "\n",
       "    .dataframe tbody tr th {\n",
       "        vertical-align: top;\n",
       "    }\n",
       "\n",
       "    .dataframe thead th {\n",
       "        text-align: right;\n",
       "    }\n",
       "</style>\n",
       "<table border=\"1\" class=\"dataframe\">\n",
       "  <thead>\n",
       "    <tr style=\"text-align: right;\">\n",
       "      <th></th>\n",
       "      <th>id</th>\n",
       "      <th>member_id</th>\n",
       "      <th>loan_amnt</th>\n",
       "      <th>funded_amnt</th>\n",
       "      <th>funded_amnt_inv</th>\n",
       "      <th>term</th>\n",
       "      <th>int_rate</th>\n",
       "      <th>installment</th>\n",
       "      <th>grade</th>\n",
       "      <th>sub_grade</th>\n",
       "      <th>...</th>\n",
       "      <th>hardship_payoff_balance_amount</th>\n",
       "      <th>hardship_last_payment_amount</th>\n",
       "      <th>disbursement_method</th>\n",
       "      <th>debt_settlement_flag</th>\n",
       "      <th>debt_settlement_flag_date</th>\n",
       "      <th>settlement_status</th>\n",
       "      <th>settlement_date</th>\n",
       "      <th>settlement_amount</th>\n",
       "      <th>settlement_percentage</th>\n",
       "      <th>settlement_term</th>\n",
       "    </tr>\n",
       "  </thead>\n",
       "  <tbody>\n",
       "    <tr>\n",
       "      <th>1557444</th>\n",
       "      <td>132555889</td>\n",
       "      <td>NaN</td>\n",
       "      <td>11000.0</td>\n",
       "      <td>11000.0</td>\n",
       "      <td>11000.0</td>\n",
       "      <td>36 months</td>\n",
       "      <td>10.90</td>\n",
       "      <td>359.61</td>\n",
       "      <td>B</td>\n",
       "      <td>B4</td>\n",
       "      <td>...</td>\n",
       "      <td>NaN</td>\n",
       "      <td>NaN</td>\n",
       "      <td>DirectPay</td>\n",
       "      <td>N</td>\n",
       "      <td>NaN</td>\n",
       "      <td>NaN</td>\n",
       "      <td>NaN</td>\n",
       "      <td>NaN</td>\n",
       "      <td>NaN</td>\n",
       "      <td>NaN</td>\n",
       "    </tr>\n",
       "    <tr>\n",
       "      <th>1089926</th>\n",
       "      <td>69743499</td>\n",
       "      <td>NaN</td>\n",
       "      <td>12000.0</td>\n",
       "      <td>12000.0</td>\n",
       "      <td>12000.0</td>\n",
       "      <td>36 months</td>\n",
       "      <td>6.99</td>\n",
       "      <td>370.48</td>\n",
       "      <td>A</td>\n",
       "      <td>A3</td>\n",
       "      <td>...</td>\n",
       "      <td>NaN</td>\n",
       "      <td>NaN</td>\n",
       "      <td>Cash</td>\n",
       "      <td>N</td>\n",
       "      <td>NaN</td>\n",
       "      <td>NaN</td>\n",
       "      <td>NaN</td>\n",
       "      <td>NaN</td>\n",
       "      <td>NaN</td>\n",
       "      <td>NaN</td>\n",
       "    </tr>\n",
       "    <tr>\n",
       "      <th>71683</th>\n",
       "      <td>63590274</td>\n",
       "      <td>NaN</td>\n",
       "      <td>5000.0</td>\n",
       "      <td>5000.0</td>\n",
       "      <td>5000.0</td>\n",
       "      <td>36 months</td>\n",
       "      <td>12.05</td>\n",
       "      <td>166.20</td>\n",
       "      <td>C</td>\n",
       "      <td>C1</td>\n",
       "      <td>...</td>\n",
       "      <td>NaN</td>\n",
       "      <td>NaN</td>\n",
       "      <td>Cash</td>\n",
       "      <td>N</td>\n",
       "      <td>NaN</td>\n",
       "      <td>NaN</td>\n",
       "      <td>NaN</td>\n",
       "      <td>NaN</td>\n",
       "      <td>NaN</td>\n",
       "      <td>NaN</td>\n",
       "    </tr>\n",
       "    <tr>\n",
       "      <th>356146</th>\n",
       "      <td>42364040</td>\n",
       "      <td>NaN</td>\n",
       "      <td>20000.0</td>\n",
       "      <td>20000.0</td>\n",
       "      <td>19975.0</td>\n",
       "      <td>36 months</td>\n",
       "      <td>15.61</td>\n",
       "      <td>699.30</td>\n",
       "      <td>D</td>\n",
       "      <td>D1</td>\n",
       "      <td>...</td>\n",
       "      <td>NaN</td>\n",
       "      <td>NaN</td>\n",
       "      <td>Cash</td>\n",
       "      <td>N</td>\n",
       "      <td>NaN</td>\n",
       "      <td>NaN</td>\n",
       "      <td>NaN</td>\n",
       "      <td>NaN</td>\n",
       "      <td>NaN</td>\n",
       "      <td>NaN</td>\n",
       "    </tr>\n",
       "    <tr>\n",
       "      <th>1396198</th>\n",
       "      <td>144254317</td>\n",
       "      <td>NaN</td>\n",
       "      <td>5000.0</td>\n",
       "      <td>5000.0</td>\n",
       "      <td>5000.0</td>\n",
       "      <td>36 months</td>\n",
       "      <td>18.94</td>\n",
       "      <td>183.13</td>\n",
       "      <td>D</td>\n",
       "      <td>D2</td>\n",
       "      <td>...</td>\n",
       "      <td>NaN</td>\n",
       "      <td>NaN</td>\n",
       "      <td>Cash</td>\n",
       "      <td>N</td>\n",
       "      <td>NaN</td>\n",
       "      <td>NaN</td>\n",
       "      <td>NaN</td>\n",
       "      <td>NaN</td>\n",
       "      <td>NaN</td>\n",
       "      <td>NaN</td>\n",
       "    </tr>\n",
       "  </tbody>\n",
       "</table>\n",
       "<p>5 rows × 151 columns</p>\n",
       "</div>"
      ],
      "text/plain": [
       "                id  member_id  loan_amnt  funded_amnt  funded_amnt_inv  \\\n",
       "1557444  132555889        NaN    11000.0      11000.0          11000.0   \n",
       "1089926   69743499        NaN    12000.0      12000.0          12000.0   \n",
       "71683     63590274        NaN     5000.0       5000.0           5000.0   \n",
       "356146    42364040        NaN    20000.0      20000.0          19975.0   \n",
       "1396198  144254317        NaN     5000.0       5000.0           5000.0   \n",
       "\n",
       "               term  int_rate  installment grade sub_grade  ...  \\\n",
       "1557444   36 months     10.90       359.61     B        B4  ...   \n",
       "1089926   36 months      6.99       370.48     A        A3  ...   \n",
       "71683     36 months     12.05       166.20     C        C1  ...   \n",
       "356146    36 months     15.61       699.30     D        D1  ...   \n",
       "1396198   36 months     18.94       183.13     D        D2  ...   \n",
       "\n",
       "        hardship_payoff_balance_amount hardship_last_payment_amount  \\\n",
       "1557444                            NaN                          NaN   \n",
       "1089926                            NaN                          NaN   \n",
       "71683                              NaN                          NaN   \n",
       "356146                             NaN                          NaN   \n",
       "1396198                            NaN                          NaN   \n",
       "\n",
       "        disbursement_method  debt_settlement_flag debt_settlement_flag_date  \\\n",
       "1557444           DirectPay                     N                       NaN   \n",
       "1089926                Cash                     N                       NaN   \n",
       "71683                  Cash                     N                       NaN   \n",
       "356146                 Cash                     N                       NaN   \n",
       "1396198                Cash                     N                       NaN   \n",
       "\n",
       "        settlement_status settlement_date settlement_amount  \\\n",
       "1557444               NaN             NaN               NaN   \n",
       "1089926               NaN             NaN               NaN   \n",
       "71683                 NaN             NaN               NaN   \n",
       "356146                NaN             NaN               NaN   \n",
       "1396198               NaN             NaN               NaN   \n",
       "\n",
       "        settlement_percentage settlement_term  \n",
       "1557444                   NaN             NaN  \n",
       "1089926                   NaN             NaN  \n",
       "71683                     NaN             NaN  \n",
       "356146                    NaN             NaN  \n",
       "1396198                   NaN             NaN  \n",
       "\n",
       "[5 rows x 151 columns]"
      ]
     },
     "execution_count": 3,
     "metadata": {},
     "output_type": "execute_result"
    }
   ],
   "source": [
    "loan_data.sample(5)"
   ]
  },
  {
   "cell_type": "markdown",
   "metadata": {},
   "source": [
    "Each row represents one loan. We see that there at 151 features. Let's get\n",
    "additional information about the dataset:"
   ]
  },
  {
   "cell_type": "code",
   "execution_count": 4,
   "metadata": {},
   "outputs": [
    {
     "name": "stdout",
     "output_type": "stream",
     "text": [
      "<class 'pandas.core.frame.DataFrame'>\n",
      "RangeIndex: 2260701 entries, 0 to 2260700\n",
      "Columns: 151 entries, id to settlement_term\n",
      "dtypes: float64(113), object(38)\n",
      "memory usage: 2.5+ GB\n"
     ]
    }
   ],
   "source": [
    "loan_data.info()"
   ]
  },
  {
   "cell_type": "markdown",
   "metadata": {},
   "source": [
    "We see that there are approximately 2.2 million rows, taking up 2.5 GB of \n",
    "memory. Of the 151 features, 113 are numerical, and 38 are non-numerical."
   ]
  },
  {
   "cell_type": "markdown",
   "metadata": {},
   "source": [
    "The descriptions of the features are available in the LendingClub *Data \n",
    "Dictionary* excel file found \n",
    "[here](https://resources.lendingclub.com/LCDataDictionary.xlsx).\n",
    "Our main goal is to predict the probability of a charge off, and using \n",
    "the dictionary we determine that the target feature is **'loan_status'**, \n",
    "whose value counts are:"
   ]
  },
  {
   "cell_type": "code",
   "execution_count": 5,
   "metadata": {},
   "outputs": [
    {
     "data": {
      "text/plain": [
       "Fully Paid                                             1076751\n",
       "Current                                                 878317\n",
       "Charged Off                                             268559\n",
       "Late (31-120 days)                                       21467\n",
       "In Grace Period                                           8436\n",
       "Late (16-30 days)                                         4349\n",
       "Does not meet the credit policy. Status:Fully Paid        1988\n",
       "Does not meet the credit policy. Status:Charged Off        761\n",
       "Default                                                     40\n",
       "NaN                                                         33\n",
       "Name: loan_status, dtype: int64"
      ]
     },
     "execution_count": 5,
     "metadata": {},
     "output_type": "execute_result"
    }
   ],
   "source": [
    "loan_data['loan_status'].value_counts(dropna=False)"
   ]
  },
  {
   "cell_type": "markdown",
   "metadata": {},
   "source": [
    "We will consider only those rows with **loan_status** either 'Fully Paid' or 'Charged Off':"
   ]
  },
  {
   "cell_type": "code",
   "execution_count": 6,
   "metadata": {},
   "outputs": [],
   "source": [
    "mask_loan_status = loan_data['loan_status'].isin(['Fully Paid', \n",
    "                                                  'Charged Off'])\n",
    "loan_data = loan_data[mask_loan_status]"
   ]
  },
  {
   "cell_type": "markdown",
   "metadata": {},
   "source": [
    "Let's take a look at the proportion of loans that are classified as \n",
    "'Fully Paid' and 'Charged Off':"
   ]
  },
  {
   "cell_type": "code",
   "execution_count": 7,
   "metadata": {},
   "outputs": [
    {
     "data": {
      "text/plain": [
       "Fully Paid     0.800374\n",
       "Charged Off    0.199626\n",
       "Name: loan_status, dtype: float64"
      ]
     },
     "execution_count": 7,
     "metadata": {},
     "output_type": "execute_result"
    }
   ],
   "source": [
    "loan_data['loan_status'].value_counts(normalize=True)"
   ]
  },
  {
   "cell_type": "markdown",
   "metadata": {},
   "source": [
    "We see that the classes are imbalanced; we will keep this in mind \n",
    "when it's time to choose an evaluation metric for our machine learning\n",
    "models.\n",
    "\n",
    "As we've seen above, the raw dataset has 151 features. A quick glance\n",
    "at the Data Dictionary tells us that we can safely drop several features\n",
    "for various reasons, explained below. "
   ]
  },
  {
   "cell_type": "markdown",
   "metadata": {},
   "source": [
    "## 1. Discard Unusable Features"
   ]
  },
  {
   "cell_type": "markdown",
   "metadata": {},
   "source": [
    "We begin by dropping features that have only one unique value:"
   ]
  },
  {
   "cell_type": "code",
   "execution_count": 8,
   "metadata": {},
   "outputs": [],
   "source": [
    "cols_with_one_unique_val = [col for col in loan_data.columns \n",
    "                            if loan_data[col].nunique()==1]\n",
    "loan_data.drop(columns=cols_with_one_unique_val, inplace=True)"
   ]
  },
  {
   "cell_type": "code",
   "execution_count": 9,
   "metadata": {},
   "outputs": [
    {
     "name": "stdout",
     "output_type": "stream",
     "text": [
      "Size of the dataset: 1345310 rows and 143 columns\n"
     ]
    }
   ],
   "source": [
    "n_rows, n_cols = loan_data.shape\n",
    "print(f'Size of the dataset: {n_rows} rows and {n_cols} columns')"
   ]
  },
  {
   "cell_type": "markdown",
   "metadata": {},
   "source": [
    "Let's take a look at the histogram of the feature-wise percentage of \n",
    "missing values:"
   ]
  },
  {
   "cell_type": "code",
   "execution_count": 10,
   "metadata": {},
   "outputs": [
    {
     "data": {
      "image/png": "[encoded data removed]",
      "text/plain": [
       "<Figure size 432x288 with 1 Axes>"
      ]
     },
     "metadata": {},
     "output_type": "display_data"
    }
   ],
   "source": [
    "missing_vals_proportion = loan_data.isnull().mean()\n",
    "fig = plt.figure()\n",
    "ax = fig.add_subplot(1, 1, 1)\n",
    "missing_vals_proportion.hist(bins=20, ax=ax)\n",
    "ax.set_title('Histogram of missing values')\n",
    "ax.set_xlabel('Missing values')\n",
    "ax.set_ylabel('Features')\n",
    "xmax = len(loan_data.columns)\n",
    "ax.xaxis.set_major_formatter(PercentFormatter(xmax=1, decimals=0))\n",
    "ax.yaxis.set_major_formatter(PercentFormatter(xmax=xmax, decimals=0))"
   ]
  },
  {
   "cell_type": "markdown",
   "metadata": {},
   "source": [
    "We will drop the features that are missing more than 30% of the values:"
   ]
  },
  {
   "cell_type": "code",
   "execution_count": 11,
   "metadata": {},
   "outputs": [],
   "source": [
    "na_thresh = 0.5\n",
    "loan_data.dropna(how='any', axis='columns', \n",
    "                 thresh=(1-na_thresh)*n_rows, inplace=True)"
   ]
  },
  {
   "cell_type": "code",
   "execution_count": 12,
   "metadata": {},
   "outputs": [
    {
     "name": "stdout",
     "output_type": "stream",
     "text": [
      "Size of the dataset: 1345310 rows and 88 columns\n"
     ]
    }
   ],
   "source": [
    "n_rows, n_cols = loan_data.shape\n",
    "print(f'Size of the dataset: {n_rows} rows and {n_cols} columns')"
   ]
  },
  {
   "cell_type": "markdown",
   "metadata": {},
   "source": [
    "Next, we take a closer look at the Data Dictionary, to determine relevant \n",
    "features. "
   ]
  },
  {
   "cell_type": "code",
   "execution_count": 13,
   "metadata": {
    "scrolled": true
   },
   "outputs": [
    {
     "data": {
      "text/html": [
       "<div>\n",
       "<style scoped>\n",
       "    .dataframe tbody tr th:only-of-type {\n",
       "        vertical-align: middle;\n",
       "    }\n",
       "\n",
       "    .dataframe tbody tr th {\n",
       "        vertical-align: top;\n",
       "    }\n",
       "\n",
       "    .dataframe thead th {\n",
       "        text-align: right;\n",
       "    }\n",
       "</style>\n",
       "<table border=\"1\" class=\"dataframe\">\n",
       "  <thead>\n",
       "    <tr style=\"text-align: right;\">\n",
       "      <th></th>\n",
       "      <th>Description</th>\n",
       "    </tr>\n",
       "    <tr>\n",
       "      <th>LoanStatNew</th>\n",
       "      <th></th>\n",
       "    </tr>\n",
       "  </thead>\n",
       "  <tbody>\n",
       "    <tr>\n",
       "      <th>acc_now_delinq</th>\n",
       "      <td>The number of accounts on which the borrower is now delinquent.</td>\n",
       "    </tr>\n",
       "    <tr>\n",
       "      <th>acc_open_past_24mths</th>\n",
       "      <td>Number of trades opened in past 24 months.</td>\n",
       "    </tr>\n",
       "    <tr>\n",
       "      <th>addr_state</th>\n",
       "      <td>The state provided by the borrower in the loan application</td>\n",
       "    </tr>\n",
       "    <tr>\n",
       "      <th>annual_inc</th>\n",
       "      <td>The self-reported annual income provided by the borrower during registration.</td>\n",
       "    </tr>\n",
       "    <tr>\n",
       "      <th>application_type</th>\n",
       "      <td>Indicates whether the loan is an individual application or a joint application with two co-borrowers</td>\n",
       "    </tr>\n",
       "    <tr>\n",
       "      <th>avg_cur_bal</th>\n",
       "      <td>Average current balance of all accounts</td>\n",
       "    </tr>\n",
       "    <tr>\n",
       "      <th>bc_open_to_buy</th>\n",
       "      <td>Total open to buy on revolving bankcards.</td>\n",
       "    </tr>\n",
       "    <tr>\n",
       "      <th>bc_util</th>\n",
       "      <td>Ratio of total current balance to high credit/credit limit for all bankcard accounts.</td>\n",
       "    </tr>\n",
       "    <tr>\n",
       "      <th>chargeoff_within_12_mths</th>\n",
       "      <td>Number of charge-offs within 12 months</td>\n",
       "    </tr>\n",
       "    <tr>\n",
       "      <th>collection_recovery_fee</th>\n",
       "      <td>post charge off collection fee</td>\n",
       "    </tr>\n",
       "    <tr>\n",
       "      <th>collections_12_mths_ex_med</th>\n",
       "      <td>Number of collections in 12 months excluding medical collections</td>\n",
       "    </tr>\n",
       "    <tr>\n",
       "      <th>debt_settlement_flag</th>\n",
       "      <td>Flags whether or not the borrower, who has charged-off, is working with a debt-settlement company.</td>\n",
       "    </tr>\n",
       "    <tr>\n",
       "      <th>delinq_2yrs</th>\n",
       "      <td>The number of 30+ days past-due incidences of delinquency in the borrower's credit file for the past 2 years</td>\n",
       "    </tr>\n",
       "    <tr>\n",
       "      <th>delinq_amnt</th>\n",
       "      <td>The past-due amount owed for the accounts on which the borrower is now delinquent.</td>\n",
       "    </tr>\n",
       "    <tr>\n",
       "      <th>disbursement_method</th>\n",
       "      <td>The method by which the borrower receives their loan. Possible values are: CASH, DIRECT_PAY</td>\n",
       "    </tr>\n",
       "    <tr>\n",
       "      <th>dti</th>\n",
       "      <td>A ratio calculated using the borrower’s total monthly debt payments on the total debt obligations, excluding mortgage and the requested LC loan, divided by the borrower’s self-reported monthly income.</td>\n",
       "    </tr>\n",
       "    <tr>\n",
       "      <th>earliest_cr_line</th>\n",
       "      <td>The month the borrower's earliest reported credit line was opened</td>\n",
       "    </tr>\n",
       "    <tr>\n",
       "      <th>emp_length</th>\n",
       "      <td>Employment length in years. Possible values are between 0 and 10 where 0 means less than one year and 10 means ten or more years.</td>\n",
       "    </tr>\n",
       "    <tr>\n",
       "      <th>emp_title</th>\n",
       "      <td>The job title supplied by the Borrower when applying for the loan.*</td>\n",
       "    </tr>\n",
       "    <tr>\n",
       "      <th>fico_range_high</th>\n",
       "      <td>The upper boundary range the borrower’s FICO at loan origination belongs to.</td>\n",
       "    </tr>\n",
       "    <tr>\n",
       "      <th>fico_range_low</th>\n",
       "      <td>The lower boundary range the borrower’s FICO at loan origination belongs to.</td>\n",
       "    </tr>\n",
       "    <tr>\n",
       "      <th>funded_amnt</th>\n",
       "      <td>The total amount committed to that loan at that point in time.</td>\n",
       "    </tr>\n",
       "    <tr>\n",
       "      <th>funded_amnt_inv</th>\n",
       "      <td>The total amount committed by investors for that loan at that point in time.</td>\n",
       "    </tr>\n",
       "    <tr>\n",
       "      <th>grade</th>\n",
       "      <td>LC assigned loan grade</td>\n",
       "    </tr>\n",
       "    <tr>\n",
       "      <th>home_ownership</th>\n",
       "      <td>The home ownership status provided by the borrower during registration or obtained from the credit report. Our values are: RENT, OWN, MORTGAGE, OTHER</td>\n",
       "    </tr>\n",
       "    <tr>\n",
       "      <th>id</th>\n",
       "      <td>A unique LC assigned ID for the loan listing.</td>\n",
       "    </tr>\n",
       "    <tr>\n",
       "      <th>initial_list_status</th>\n",
       "      <td>The initial listing status of the loan. Possible values are – W, F</td>\n",
       "    </tr>\n",
       "    <tr>\n",
       "      <th>inq_last_6mths</th>\n",
       "      <td>The number of inquiries in past 6 months (excluding auto and mortgage inquiries)</td>\n",
       "    </tr>\n",
       "    <tr>\n",
       "      <th>installment</th>\n",
       "      <td>The monthly payment owed by the borrower if the loan originates.</td>\n",
       "    </tr>\n",
       "    <tr>\n",
       "      <th>int_rate</th>\n",
       "      <td>Interest Rate on the loan</td>\n",
       "    </tr>\n",
       "    <tr>\n",
       "      <th>issue_d</th>\n",
       "      <td>The month which the loan was funded</td>\n",
       "    </tr>\n",
       "    <tr>\n",
       "      <th>last_credit_pull_d</th>\n",
       "      <td>The most recent month LC pulled credit for this loan</td>\n",
       "    </tr>\n",
       "    <tr>\n",
       "      <th>last_fico_range_high</th>\n",
       "      <td>The upper boundary range the borrower’s last FICO pulled belongs to.</td>\n",
       "    </tr>\n",
       "    <tr>\n",
       "      <th>last_fico_range_low</th>\n",
       "      <td>The lower boundary range the borrower’s last FICO pulled belongs to.</td>\n",
       "    </tr>\n",
       "    <tr>\n",
       "      <th>last_pymnt_amnt</th>\n",
       "      <td>Last total payment amount received</td>\n",
       "    </tr>\n",
       "    <tr>\n",
       "      <th>last_pymnt_d</th>\n",
       "      <td>Last month payment was received</td>\n",
       "    </tr>\n",
       "    <tr>\n",
       "      <th>loan_amnt</th>\n",
       "      <td>The listed amount of the loan applied for by the borrower. If at some point in time, the credit department reduces the loan amount, then it will be reflected in this value.</td>\n",
       "    </tr>\n",
       "    <tr>\n",
       "      <th>loan_status</th>\n",
       "      <td>Current status of the loan</td>\n",
       "    </tr>\n",
       "    <tr>\n",
       "      <th>mo_sin_old_il_acct</th>\n",
       "      <td>Months since oldest bank installment account opened</td>\n",
       "    </tr>\n",
       "    <tr>\n",
       "      <th>mo_sin_old_rev_tl_op</th>\n",
       "      <td>Months since oldest revolving account opened</td>\n",
       "    </tr>\n",
       "    <tr>\n",
       "      <th>mo_sin_rcnt_rev_tl_op</th>\n",
       "      <td>Months since most recent revolving account opened</td>\n",
       "    </tr>\n",
       "    <tr>\n",
       "      <th>mo_sin_rcnt_tl</th>\n",
       "      <td>Months since most recent account opened</td>\n",
       "    </tr>\n",
       "    <tr>\n",
       "      <th>mort_acc</th>\n",
       "      <td>Number of mortgage accounts.</td>\n",
       "    </tr>\n",
       "    <tr>\n",
       "      <th>mths_since_recent_bc</th>\n",
       "      <td>Months since most recent bankcard account opened.</td>\n",
       "    </tr>\n",
       "    <tr>\n",
       "      <th>mths_since_recent_inq</th>\n",
       "      <td>Months since most recent inquiry.</td>\n",
       "    </tr>\n",
       "    <tr>\n",
       "      <th>num_accts_ever_120_pd</th>\n",
       "      <td>Number of accounts ever 120 or more days past due</td>\n",
       "    </tr>\n",
       "    <tr>\n",
       "      <th>num_actv_bc_tl</th>\n",
       "      <td>Number of currently active bankcard accounts</td>\n",
       "    </tr>\n",
       "    <tr>\n",
       "      <th>num_actv_rev_tl</th>\n",
       "      <td>Number of currently active revolving trades</td>\n",
       "    </tr>\n",
       "    <tr>\n",
       "      <th>num_bc_sats</th>\n",
       "      <td>Number of satisfactory bankcard accounts</td>\n",
       "    </tr>\n",
       "    <tr>\n",
       "      <th>num_bc_tl</th>\n",
       "      <td>Number of bankcard accounts</td>\n",
       "    </tr>\n",
       "    <tr>\n",
       "      <th>num_il_tl</th>\n",
       "      <td>Number of installment accounts</td>\n",
       "    </tr>\n",
       "    <tr>\n",
       "      <th>num_op_rev_tl</th>\n",
       "      <td>Number of open revolving accounts</td>\n",
       "    </tr>\n",
       "    <tr>\n",
       "      <th>num_rev_accts</th>\n",
       "      <td>Number of revolving accounts</td>\n",
       "    </tr>\n",
       "    <tr>\n",
       "      <th>num_rev_tl_bal_gt_0</th>\n",
       "      <td>Number of revolving trades with balance &gt;0</td>\n",
       "    </tr>\n",
       "    <tr>\n",
       "      <th>num_sats</th>\n",
       "      <td>Number of satisfactory accounts</td>\n",
       "    </tr>\n",
       "    <tr>\n",
       "      <th>num_tl_120dpd_2m</th>\n",
       "      <td>Number of accounts currently 120 days past due (updated in past 2 months)</td>\n",
       "    </tr>\n",
       "    <tr>\n",
       "      <th>num_tl_30dpd</th>\n",
       "      <td>Number of accounts currently 30 days past due (updated in past 2 months)</td>\n",
       "    </tr>\n",
       "    <tr>\n",
       "      <th>num_tl_90g_dpd_24m</th>\n",
       "      <td>Number of accounts 90 or more days past due in last 24 months</td>\n",
       "    </tr>\n",
       "    <tr>\n",
       "      <th>num_tl_op_past_12m</th>\n",
       "      <td>Number of accounts opened in past 12 months</td>\n",
       "    </tr>\n",
       "    <tr>\n",
       "      <th>open_acc</th>\n",
       "      <td>The number of open credit lines in the borrower's credit file.</td>\n",
       "    </tr>\n",
       "    <tr>\n",
       "      <th>pct_tl_nvr_dlq</th>\n",
       "      <td>Percent of trades never delinquent</td>\n",
       "    </tr>\n",
       "    <tr>\n",
       "      <th>percent_bc_gt_75</th>\n",
       "      <td>Percentage of all bankcard accounts &gt; 75% of limit.</td>\n",
       "    </tr>\n",
       "    <tr>\n",
       "      <th>pub_rec</th>\n",
       "      <td>Number of derogatory public records</td>\n",
       "    </tr>\n",
       "    <tr>\n",
       "      <th>pub_rec_bankruptcies</th>\n",
       "      <td>Number of public record bankruptcies</td>\n",
       "    </tr>\n",
       "    <tr>\n",
       "      <th>purpose</th>\n",
       "      <td>A category provided by the borrower for the loan request.</td>\n",
       "    </tr>\n",
       "    <tr>\n",
       "      <th>recoveries</th>\n",
       "      <td>post charge off gross recovery</td>\n",
       "    </tr>\n",
       "    <tr>\n",
       "      <th>revol_bal</th>\n",
       "      <td>Total credit revolving balance</td>\n",
       "    </tr>\n",
       "    <tr>\n",
       "      <th>revol_util</th>\n",
       "      <td>Revolving line utilization rate, or the amount of credit the borrower is using relative to all available revolving credit.</td>\n",
       "    </tr>\n",
       "    <tr>\n",
       "      <th>sub_grade</th>\n",
       "      <td>LC assigned loan subgrade</td>\n",
       "    </tr>\n",
       "    <tr>\n",
       "      <th>tax_liens</th>\n",
       "      <td>Number of tax liens</td>\n",
       "    </tr>\n",
       "    <tr>\n",
       "      <th>term</th>\n",
       "      <td>The number of payments on the loan. Values are in months and can be either 36 or 60.</td>\n",
       "    </tr>\n",
       "    <tr>\n",
       "      <th>title</th>\n",
       "      <td>The loan title provided by the borrower</td>\n",
       "    </tr>\n",
       "    <tr>\n",
       "      <th>tot_coll_amt</th>\n",
       "      <td>Total collection amounts ever owed</td>\n",
       "    </tr>\n",
       "    <tr>\n",
       "      <th>tot_cur_bal</th>\n",
       "      <td>Total current balance of all accounts</td>\n",
       "    </tr>\n",
       "    <tr>\n",
       "      <th>tot_hi_cred_lim</th>\n",
       "      <td>Total high credit/credit limit</td>\n",
       "    </tr>\n",
       "    <tr>\n",
       "      <th>total_acc</th>\n",
       "      <td>The total number of credit lines currently in the borrower's credit file</td>\n",
       "    </tr>\n",
       "    <tr>\n",
       "      <th>total_bal_ex_mort</th>\n",
       "      <td>Total credit balance excluding mortgage</td>\n",
       "    </tr>\n",
       "    <tr>\n",
       "      <th>total_bc_limit</th>\n",
       "      <td>Total bankcard high credit/credit limit</td>\n",
       "    </tr>\n",
       "    <tr>\n",
       "      <th>total_il_high_credit_limit</th>\n",
       "      <td>Total installment high credit/credit limit</td>\n",
       "    </tr>\n",
       "    <tr>\n",
       "      <th>total_pymnt</th>\n",
       "      <td>Payments received to date for total amount funded</td>\n",
       "    </tr>\n",
       "    <tr>\n",
       "      <th>total_pymnt_inv</th>\n",
       "      <td>Payments received to date for portion of total amount funded by investors</td>\n",
       "    </tr>\n",
       "    <tr>\n",
       "      <th>total_rec_int</th>\n",
       "      <td>Interest received to date</td>\n",
       "    </tr>\n",
       "    <tr>\n",
       "      <th>total_rec_late_fee</th>\n",
       "      <td>Late fees received to date</td>\n",
       "    </tr>\n",
       "    <tr>\n",
       "      <th>total_rec_prncp</th>\n",
       "      <td>Principal received to date</td>\n",
       "    </tr>\n",
       "    <tr>\n",
       "      <th>total_rev_hi_lim</th>\n",
       "      <td>Total revolving high credit/credit limit</td>\n",
       "    </tr>\n",
       "    <tr>\n",
       "      <th>url</th>\n",
       "      <td>URL for the LC page with listing data.</td>\n",
       "    </tr>\n",
       "    <tr>\n",
       "      <th>verification_status</th>\n",
       "      <td>Indicates if income was verified by LC, not verified, or if the income source was verified</td>\n",
       "    </tr>\n",
       "    <tr>\n",
       "      <th>zip_code</th>\n",
       "      <td>The first 3 numbers of the zip code provided by the borrower in the loan application.</td>\n",
       "    </tr>\n",
       "  </tbody>\n",
       "</table>\n",
       "</div>"
      ],
      "text/plain": [
       "                                                                                                                                                                                                                         Description\n",
       "LoanStatNew                                                                                                                                                                                                                         \n",
       "acc_now_delinq                                                                                                                                                       The number of accounts on which the borrower is now delinquent.\n",
       "acc_open_past_24mths                                                                                                                                                                      Number of trades opened in past 24 months.\n",
       "addr_state                                                                                                                                                                The state provided by the borrower in the loan application\n",
       "annual_inc                                                                                                                                             The self-reported annual income provided by the borrower during registration.\n",
       "application_type                                                                                                                Indicates whether the loan is an individual application or a joint application with two co-borrowers\n",
       "avg_cur_bal                                                                                                                                                                                  Average current balance of all accounts\n",
       "bc_open_to_buy                                                                                                                                                                             Total open to buy on revolving bankcards.\n",
       "bc_util                                                                                                                                        Ratio of total current balance to high credit/credit limit for all bankcard accounts.\n",
       "chargeoff_within_12_mths                                                                                                                                                                      Number of charge-offs within 12 months\n",
       "collection_recovery_fee                                                                                                                                                                               post charge off collection fee\n",
       "collections_12_mths_ex_med                                                                                                                                          Number of collections in 12 months excluding medical collections\n",
       "debt_settlement_flag                                                                                                              Flags whether or not the borrower, who has charged-off, is working with a debt-settlement company.\n",
       "delinq_2yrs                                                                                                             The number of 30+ days past-due incidences of delinquency in the borrower's credit file for the past 2 years\n",
       "delinq_amnt                                                                                                                                       The past-due amount owed for the accounts on which the borrower is now delinquent.\n",
       "disbursement_method                                                                                                                      The method by which the borrower receives their loan. Possible values are: CASH, DIRECT_PAY\n",
       "dti                         A ratio calculated using the borrower’s total monthly debt payments on the total debt obligations, excluding mortgage and the requested LC loan, divided by the borrower’s self-reported monthly income.\n",
       "earliest_cr_line                                                                                                                                                   The month the borrower's earliest reported credit line was opened\n",
       "emp_length                                                                                        Employment length in years. Possible values are between 0 and 10 where 0 means less than one year and 10 means ten or more years. \n",
       "emp_title                                                                                                                                                        The job title supplied by the Borrower when applying for the loan.*\n",
       "fico_range_high                                                                                                                                         The upper boundary range the borrower’s FICO at loan origination belongs to.\n",
       "fico_range_low                                                                                                                                          The lower boundary range the borrower’s FICO at loan origination belongs to.\n",
       "funded_amnt                                                                                                                                                           The total amount committed to that loan at that point in time.\n",
       "funded_amnt_inv                                                                                                                                         The total amount committed by investors for that loan at that point in time.\n",
       "grade                                                                                                                                                                                                         LC assigned loan grade\n",
       "home_ownership                                                                 The home ownership status provided by the borrower during registration or obtained from the credit report. Our values are: RENT, OWN, MORTGAGE, OTHER\n",
       "id                                                                                                                                                                                     A unique LC assigned ID for the loan listing.\n",
       "initial_list_status                                                                                                                                               The initial listing status of the loan. Possible values are – W, F\n",
       "inq_last_6mths                                                                                                                                      The number of inquiries in past 6 months (excluding auto and mortgage inquiries)\n",
       "installment                                                                                                                                                         The monthly payment owed by the borrower if the loan originates.\n",
       "int_rate                                                                                                                                                                                                   Interest Rate on the loan\n",
       "issue_d                                                                                                                                                                                          The month which the loan was funded\n",
       "last_credit_pull_d                                                                                                                                                              The most recent month LC pulled credit for this loan\n",
       "last_fico_range_high                                                                                                                                            The upper boundary range the borrower’s last FICO pulled belongs to.\n",
       "last_fico_range_low                                                                                                                                             The lower boundary range the borrower’s last FICO pulled belongs to.\n",
       "last_pymnt_amnt                                                                                                                                                                                   Last total payment amount received\n",
       "last_pymnt_d                                                                                                                                                                                         Last month payment was received\n",
       "loan_amnt                                               The listed amount of the loan applied for by the borrower. If at some point in time, the credit department reduces the loan amount, then it will be reflected in this value.\n",
       "loan_status                                                                                                                                                                                               Current status of the loan\n",
       "mo_sin_old_il_acct                                                                                                                                                               Months since oldest bank installment account opened\n",
       "mo_sin_old_rev_tl_op                                                                                                                                                                    Months since oldest revolving account opened\n",
       "mo_sin_rcnt_rev_tl_op                                                                                                                                                              Months since most recent revolving account opened\n",
       "mo_sin_rcnt_tl                                                                                                                                                                               Months since most recent account opened\n",
       "mort_acc                                                                                                                                                                                                Number of mortgage accounts.\n",
       "mths_since_recent_bc                                                                                                                                                               Months since most recent bankcard account opened.\n",
       "mths_since_recent_inq                                                                                                                                                                              Months since most recent inquiry.\n",
       "num_accts_ever_120_pd                                                                                                                                                              Number of accounts ever 120 or more days past due\n",
       "num_actv_bc_tl                                                                                                                                                                          Number of currently active bankcard accounts\n",
       "num_actv_rev_tl                                                                                                                                                                          Number of currently active revolving trades\n",
       "num_bc_sats                                                                                                                                                                                 Number of satisfactory bankcard accounts\n",
       "num_bc_tl                                                                                                                                                                                                Number of bankcard accounts\n",
       "num_il_tl                                                                                                                                                                                             Number of installment accounts\n",
       "num_op_rev_tl                                                                                                                                                                                      Number of open revolving accounts\n",
       "num_rev_accts                                                                                                                                                                                           Number of revolving accounts\n",
       "num_rev_tl_bal_gt_0                                                                                                                                                                       Number of revolving trades with balance >0\n",
       "num_sats                                                                                                                                                                                             Number of satisfactory accounts\n",
       "num_tl_120dpd_2m                                                                                                                                           Number of accounts currently 120 days past due (updated in past 2 months)\n",
       "num_tl_30dpd                                                                                                                                                Number of accounts currently 30 days past due (updated in past 2 months)\n",
       "num_tl_90g_dpd_24m                                                                                                                                                     Number of accounts 90 or more days past due in last 24 months\n",
       "num_tl_op_past_12m                                                                                                                                                                       Number of accounts opened in past 12 months\n",
       "open_acc                                                                                                                                                              The number of open credit lines in the borrower's credit file.\n",
       "pct_tl_nvr_dlq                                                                                                                                                                                    Percent of trades never delinquent\n",
       "percent_bc_gt_75                                                                                                                                                                 Percentage of all bankcard accounts > 75% of limit.\n",
       "pub_rec                                                                                                                                                                                          Number of derogatory public records\n",
       "pub_rec_bankruptcies                                                                                                                                                                            Number of public record bankruptcies\n",
       "purpose                                                                                                                                                                   A category provided by the borrower for the loan request. \n",
       "recoveries                                                                                                                                                                                            post charge off gross recovery\n",
       "revol_bal                                                                                                                                                                                             Total credit revolving balance\n",
       "revol_util                                                                                                Revolving line utilization rate, or the amount of credit the borrower is using relative to all available revolving credit.\n",
       "sub_grade                                                                                                                                                                                                  LC assigned loan subgrade\n",
       "tax_liens                                                                                                                                                                                                        Number of tax liens\n",
       "term                                                                                                                                            The number of payments on the loan. Values are in months and can be either 36 or 60.\n",
       "title                                                                                                                                                                                        The loan title provided by the borrower\n",
       "tot_coll_amt                                                                                                                                                                                      Total collection amounts ever owed\n",
       "tot_cur_bal                                                                                                                                                                                    Total current balance of all accounts\n",
       "tot_hi_cred_lim                                                                                                                                                                                       Total high credit/credit limit\n",
       "total_acc                                                                                                                                                   The total number of credit lines currently in the borrower's credit file\n",
       "total_bal_ex_mort                                                                                                                                                                            Total credit balance excluding mortgage\n",
       "total_bc_limit                                                                                                                                                                               Total bankcard high credit/credit limit\n",
       "total_il_high_credit_limit                                                                                                                                                                Total installment high credit/credit limit\n",
       "total_pymnt                                                                                                                                                                        Payments received to date for total amount funded\n",
       "total_pymnt_inv                                                                                                                                            Payments received to date for portion of total amount funded by investors\n",
       "total_rec_int                                                                                                                                                                                              Interest received to date\n",
       "total_rec_late_fee                                                                                                                                                                                        Late fees received to date\n",
       "total_rec_prncp                                                                                                                                                                                           Principal received to date\n",
       "total_rev_hi_lim                                                                                                                                                                            Total revolving high credit/credit limit\n",
       "url                                                                                                                                                                                           URL for the LC page with listing data.\n",
       "verification_status                                                                                                                       Indicates if income was verified by LC, not verified, or if the income source was verified\n",
       "zip_code                                                                                                                                       The first 3 numbers of the zip code provided by the borrower in the loan application."
      ]
     },
     "execution_count": 13,
     "metadata": {},
     "output_type": "execute_result"
    }
   ],
   "source": [
    "# Read the Data Dictionary into a pandas dataframe.\n",
    "data_dictionary = pd.read_excel('data/LCDataDictionary_2018.xlsx', \n",
    "                                index_col=0,\n",
    "                                nrows=151)\n",
    "\n",
    "# Ensure that all rows and columns are displayed, and that the columns are \n",
    "# not truncated.\n",
    "pd.options.display.max_rows = None\n",
    "pd.options.display.max_columns = None\n",
    "pd.options.display.max_colwidth = None\n",
    "\n",
    "# Display descriptions of the 88 features that still remain in the dataset.\n",
    "data_dictionary.loc[loan_data.columns.to_list()].sort_index()"
   ]
  },
  {
   "cell_type": "markdown",
   "metadata": {},
   "source": [
    "We will drop features that are unavailable to the potential investor at \n",
    "the time of investment, such as **last_pymnt_amnt** and **recoveries**.\n",
    "We note one exception: even though the feature **issue_d** is unavailable \n",
    "at the time of investment, we keep it for now because we will consider \n",
    "using it to approximate the age of the borrower's oldest credit account. \n",
    "Additionally, we will also drop unusable features such as \n",
    "**id** and **url**. Before we drop the feature **id**, let's check if\n",
    "it is a unique identifier for the rows of the data:"
   ]
  },
  {
   "cell_type": "code",
   "execution_count": 14,
   "metadata": {},
   "outputs": [
    {
     "name": "stdout",
     "output_type": "stream",
     "text": [
      "Number of rows: 1345310\n",
      "Number of unique ids: 1345310\n"
     ]
    }
   ],
   "source": [
    "n_rows, _ = loan_data.shape\n",
    "n_ids = loan_data['id'].nunique()\n",
    "print('Number of rows:', n_rows)\n",
    "print('Number of unique ids:', n_rows)"
   ]
  },
  {
   "cell_type": "code",
   "execution_count": 15,
   "metadata": {},
   "outputs": [],
   "source": [
    "cols_to_drop = [\n",
    "    'acc_now_delinq', 'acc_open_past_24mths', 'avg_cur_bal', \n",
    "    'bc_open_to_buy', 'bc_util', 'chargeoff_within_12_mths', \n",
    "    'collection_recovery_fee', 'collections_12_mths_ex_med', \n",
    "    'debt_settlement_flag', 'delinq_2yrs', 'delinq_amnt', \n",
    "    'disbursement_method', 'funded_amnt', 'funded_amnt_inv', 'id', \n",
    "    'inq_last_6mths', 'last_credit_pull_d', 'last_fico_range_high',\n",
    "    'last_fico_range_low', 'last_pymnt_amnt', 'last_pymnt_d',\n",
    "    'mo_sin_old_il_acct', 'mo_sin_old_rev_tl_op', 'mo_sin_rcnt_rev_tl_op',\n",
    "    'mo_sin_rcnt_tl', 'mths_since_recent_bc', 'mths_since_recent_inq',\n",
    "    'num_accts_ever_120_pd', 'num_actv_bc_tl', 'num_actv_rev_tl',\n",
    "    'num_bc_sats', 'num_bc_tl', 'num_il_tl', 'num_op_rev_tl', \n",
    "    'num_rev_accts', 'num_rev_tl_bal_gt_0', 'num_sats', 'num_tl_120dpd_2m', \n",
    "    'num_tl_30dpd', 'num_tl_90g_dpd_24m', 'num_tl_op_past_12m', \n",
    "    'pct_tl_nvr_dlq', 'percent_bc_gt_75', 'recoveries', 'tot_coll_amt', \n",
    "    'tot_cur_bal', 'tot_hi_cred_lim', 'total_bal_ex_mort', 'total_bc_limit',\n",
    "    'total_il_high_credit_limit', 'total_pymnt', 'total_pymnt_inv',\n",
    "    'total_rec_int', 'total_rec_late_fee', 'total_rec_prncp', \n",
    "    'total_rev_hi_lim', 'url']\n",
    "\n",
    "# Drop columns identified above.\n",
    "loan_data.drop(columns=cols_to_drop, inplace=True)"
   ]
  },
  {
   "cell_type": "code",
   "execution_count": 16,
   "metadata": {},
   "outputs": [
    {
     "name": "stdout",
     "output_type": "stream",
     "text": [
      "Size of the dataset: 1345310 rows and 31 columns\n"
     ]
    }
   ],
   "source": [
    "n_rows, n_cols = loan_data.shape\n",
    "print(f'Size of the dataset: {n_rows} rows and {n_cols} columns')"
   ]
  },
  {
   "cell_type": "markdown",
   "metadata": {},
   "source": [
    "Are there any rows with all entries null?"
   ]
  },
  {
   "cell_type": "code",
   "execution_count": 17,
   "metadata": {},
   "outputs": [
    {
     "data": {
      "text/plain": [
       "0"
      ]
     },
     "execution_count": 17,
     "metadata": {},
     "output_type": "execute_result"
    }
   ],
   "source": [
    "loan_data.isnull().all(axis='columns').sum()"
   ]
  },
  {
   "cell_type": "markdown",
   "metadata": {},
   "source": [
    "Are there any duplicate rows?"
   ]
  },
  {
   "cell_type": "code",
   "execution_count": 18,
   "metadata": {},
   "outputs": [
    {
     "data": {
      "text/plain": [
       "0"
      ]
     },
     "execution_count": 18,
     "metadata": {},
     "output_type": "execute_result"
    }
   ],
   "source": [
    "loan_data.duplicated().sum()"
   ]
  },
  {
   "cell_type": "markdown",
   "metadata": {},
   "source": [
    "Let's take a look at the features that remain:"
   ]
  },
  {
   "cell_type": "code",
   "execution_count": 19,
   "metadata": {},
   "outputs": [
    {
     "name": "stdout",
     "output_type": "stream",
     "text": [
      "<class 'pandas.core.frame.DataFrame'>\n",
      "Int64Index: 1345310 entries, 0 to 2260697\n",
      "Data columns (total 31 columns):\n",
      " #   Column                Non-Null Count    Dtype  \n",
      "---  ------                --------------    -----  \n",
      " 0   loan_amnt             1345310 non-null  float64\n",
      " 1   term                  1345310 non-null  object \n",
      " 2   int_rate              1345310 non-null  float64\n",
      " 3   installment           1345310 non-null  float64\n",
      " 4   grade                 1345310 non-null  object \n",
      " 5   sub_grade             1345310 non-null  object \n",
      " 6   emp_title             1259525 non-null  object \n",
      " 7   emp_length            1266799 non-null  object \n",
      " 8   home_ownership        1345310 non-null  object \n",
      " 9   annual_inc            1345310 non-null  float64\n",
      " 10  verification_status   1345310 non-null  object \n",
      " 11  issue_d               1345310 non-null  object \n",
      " 12  loan_status           1345310 non-null  object \n",
      " 13  purpose               1345310 non-null  object \n",
      " 14  title                 1328651 non-null  object \n",
      " 15  zip_code              1345309 non-null  object \n",
      " 16  addr_state            1345310 non-null  object \n",
      " 17  dti                   1344936 non-null  float64\n",
      " 18  earliest_cr_line      1345310 non-null  object \n",
      " 19  fico_range_low        1345310 non-null  float64\n",
      " 20  fico_range_high       1345310 non-null  float64\n",
      " 21  open_acc              1345310 non-null  float64\n",
      " 22  pub_rec               1345310 non-null  float64\n",
      " 23  revol_bal             1345310 non-null  float64\n",
      " 24  revol_util            1344453 non-null  float64\n",
      " 25  total_acc             1345310 non-null  float64\n",
      " 26  initial_list_status   1345310 non-null  object \n",
      " 27  application_type      1345310 non-null  object \n",
      " 28  mort_acc              1298029 non-null  float64\n",
      " 29  pub_rec_bankruptcies  1344613 non-null  float64\n",
      " 30  tax_liens             1345271 non-null  float64\n",
      "dtypes: float64(15), object(16)\n",
      "memory usage: 328.4+ MB\n"
     ]
    }
   ],
   "source": [
    "loan_data.info()"
   ]
  },
  {
   "cell_type": "markdown",
   "metadata": {},
   "source": [
    "We see that that there are 15 numerical features and 16 categorical \n",
    "features remaining. In what follows, we will consider each of the features.\n",
    "We begin with the numerical features."
   ]
  },
  {
   "cell_type": "markdown",
   "metadata": {},
   "source": [
    "## 2. Understand the Numerical Features"
   ]
  },
  {
   "cell_type": "markdown",
   "metadata": {},
   "source": [
    "Let's take a look at the description of each numerical feature:"
   ]
  },
  {
   "cell_type": "code",
   "execution_count": 20,
   "metadata": {},
   "outputs": [
    {
     "data": {
      "text/html": [
       "<div>\n",
       "<style scoped>\n",
       "    .dataframe tbody tr th:only-of-type {\n",
       "        vertical-align: middle;\n",
       "    }\n",
       "\n",
       "    .dataframe tbody tr th {\n",
       "        vertical-align: top;\n",
       "    }\n",
       "\n",
       "    .dataframe thead th {\n",
       "        text-align: right;\n",
       "    }\n",
       "</style>\n",
       "<table border=\"1\" class=\"dataframe\">\n",
       "  <thead>\n",
       "    <tr style=\"text-align: right;\">\n",
       "      <th></th>\n",
       "      <th>Description</th>\n",
       "    </tr>\n",
       "    <tr>\n",
       "      <th>LoanStatNew</th>\n",
       "      <th></th>\n",
       "    </tr>\n",
       "  </thead>\n",
       "  <tbody>\n",
       "    <tr>\n",
       "      <th>annual_inc</th>\n",
       "      <td>The self-reported annual income provided by the borrower during registration.</td>\n",
       "    </tr>\n",
       "    <tr>\n",
       "      <th>dti</th>\n",
       "      <td>A ratio calculated using the borrower’s total monthly debt payments on the total debt obligations, excluding mortgage and the requested LC loan, divided by the borrower’s self-reported monthly income.</td>\n",
       "    </tr>\n",
       "    <tr>\n",
       "      <th>fico_range_high</th>\n",
       "      <td>The upper boundary range the borrower’s FICO at loan origination belongs to.</td>\n",
       "    </tr>\n",
       "    <tr>\n",
       "      <th>fico_range_low</th>\n",
       "      <td>The lower boundary range the borrower’s FICO at loan origination belongs to.</td>\n",
       "    </tr>\n",
       "    <tr>\n",
       "      <th>installment</th>\n",
       "      <td>The monthly payment owed by the borrower if the loan originates.</td>\n",
       "    </tr>\n",
       "    <tr>\n",
       "      <th>int_rate</th>\n",
       "      <td>Interest Rate on the loan</td>\n",
       "    </tr>\n",
       "    <tr>\n",
       "      <th>loan_amnt</th>\n",
       "      <td>The listed amount of the loan applied for by the borrower. If at some point in time, the credit department reduces the loan amount, then it will be reflected in this value.</td>\n",
       "    </tr>\n",
       "    <tr>\n",
       "      <th>mort_acc</th>\n",
       "      <td>Number of mortgage accounts.</td>\n",
       "    </tr>\n",
       "    <tr>\n",
       "      <th>open_acc</th>\n",
       "      <td>The number of open credit lines in the borrower's credit file.</td>\n",
       "    </tr>\n",
       "    <tr>\n",
       "      <th>pub_rec</th>\n",
       "      <td>Number of derogatory public records</td>\n",
       "    </tr>\n",
       "    <tr>\n",
       "      <th>pub_rec_bankruptcies</th>\n",
       "      <td>Number of public record bankruptcies</td>\n",
       "    </tr>\n",
       "    <tr>\n",
       "      <th>revol_bal</th>\n",
       "      <td>Total credit revolving balance</td>\n",
       "    </tr>\n",
       "    <tr>\n",
       "      <th>revol_util</th>\n",
       "      <td>Revolving line utilization rate, or the amount of credit the borrower is using relative to all available revolving credit.</td>\n",
       "    </tr>\n",
       "    <tr>\n",
       "      <th>tax_liens</th>\n",
       "      <td>Number of tax liens</td>\n",
       "    </tr>\n",
       "    <tr>\n",
       "      <th>total_acc</th>\n",
       "      <td>The total number of credit lines currently in the borrower's credit file</td>\n",
       "    </tr>\n",
       "  </tbody>\n",
       "</table>\n",
       "</div>"
      ],
      "text/plain": [
       "                                                                                                                                                                                                                   Description\n",
       "LoanStatNew                                                                                                                                                                                                                   \n",
       "annual_inc                                                                                                                                       The self-reported annual income provided by the borrower during registration.\n",
       "dti                   A ratio calculated using the borrower’s total monthly debt payments on the total debt obligations, excluding mortgage and the requested LC loan, divided by the borrower’s self-reported monthly income.\n",
       "fico_range_high                                                                                                                                   The upper boundary range the borrower’s FICO at loan origination belongs to.\n",
       "fico_range_low                                                                                                                                    The lower boundary range the borrower’s FICO at loan origination belongs to.\n",
       "installment                                                                                                                                                   The monthly payment owed by the borrower if the loan originates.\n",
       "int_rate                                                                                                                                                                                             Interest Rate on the loan\n",
       "loan_amnt                                         The listed amount of the loan applied for by the borrower. If at some point in time, the credit department reduces the loan amount, then it will be reflected in this value.\n",
       "mort_acc                                                                                                                                                                                          Number of mortgage accounts.\n",
       "open_acc                                                                                                                                                        The number of open credit lines in the borrower's credit file.\n",
       "pub_rec                                                                                                                                                                                    Number of derogatory public records\n",
       "pub_rec_bankruptcies                                                                                                                                                                      Number of public record bankruptcies\n",
       "revol_bal                                                                                                                                                                                       Total credit revolving balance\n",
       "revol_util                                                                                          Revolving line utilization rate, or the amount of credit the borrower is using relative to all available revolving credit.\n",
       "tax_liens                                                                                                                                                                                                  Number of tax liens\n",
       "total_acc                                                                                                                                             The total number of credit lines currently in the borrower's credit file"
      ]
     },
     "execution_count": 20,
     "metadata": {},
     "output_type": "execute_result"
    }
   ],
   "source": [
    "num_features = sorted(loan_data.columns[loan_data.dtypes \n",
    "                                        == 'float64'].to_list())\n",
    "data_dictionary.loc[num_features]"
   ]
  },
  {
   "cell_type": "markdown",
   "metadata": {},
   "source": [
    "Let's gather some statistics for each numerical feature:"
   ]
  },
  {
   "cell_type": "code",
   "execution_count": 21,
   "metadata": {},
   "outputs": [
    {
     "data": {
      "text/html": [
       "<div>\n",
       "<style scoped>\n",
       "    .dataframe tbody tr th:only-of-type {\n",
       "        vertical-align: middle;\n",
       "    }\n",
       "\n",
       "    .dataframe tbody tr th {\n",
       "        vertical-align: top;\n",
       "    }\n",
       "\n",
       "    .dataframe thead th {\n",
       "        text-align: right;\n",
       "    }\n",
       "</style>\n",
       "<table border=\"1\" class=\"dataframe\">\n",
       "  <thead>\n",
       "    <tr style=\"text-align: right;\">\n",
       "      <th></th>\n",
       "      <th>annual_inc</th>\n",
       "      <th>dti</th>\n",
       "      <th>fico_range_high</th>\n",
       "      <th>fico_range_low</th>\n",
       "      <th>installment</th>\n",
       "      <th>int_rate</th>\n",
       "      <th>loan_amnt</th>\n",
       "      <th>mort_acc</th>\n",
       "      <th>open_acc</th>\n",
       "      <th>pub_rec</th>\n",
       "      <th>pub_rec_bankruptcies</th>\n",
       "      <th>revol_bal</th>\n",
       "      <th>revol_util</th>\n",
       "      <th>tax_liens</th>\n",
       "      <th>total_acc</th>\n",
       "    </tr>\n",
       "  </thead>\n",
       "  <tbody>\n",
       "    <tr>\n",
       "      <th>count</th>\n",
       "      <td>1345310.00</td>\n",
       "      <td>1344936.00</td>\n",
       "      <td>1345310.00</td>\n",
       "      <td>1345310.00</td>\n",
       "      <td>1345310.00</td>\n",
       "      <td>1345310.00</td>\n",
       "      <td>1345310.00</td>\n",
       "      <td>1298029.00</td>\n",
       "      <td>1345310.00</td>\n",
       "      <td>1345310.00</td>\n",
       "      <td>1344613.00</td>\n",
       "      <td>1345310.00</td>\n",
       "      <td>1344453.00</td>\n",
       "      <td>1345271.00</td>\n",
       "      <td>1345310.00</td>\n",
       "    </tr>\n",
       "    <tr>\n",
       "      <th>mean</th>\n",
       "      <td>76247.64</td>\n",
       "      <td>18.28</td>\n",
       "      <td>700.19</td>\n",
       "      <td>696.19</td>\n",
       "      <td>438.08</td>\n",
       "      <td>13.24</td>\n",
       "      <td>14419.97</td>\n",
       "      <td>1.67</td>\n",
       "      <td>11.59</td>\n",
       "      <td>0.22</td>\n",
       "      <td>0.13</td>\n",
       "      <td>16248.11</td>\n",
       "      <td>51.81</td>\n",
       "      <td>0.05</td>\n",
       "      <td>24.98</td>\n",
       "    </tr>\n",
       "    <tr>\n",
       "      <th>std</th>\n",
       "      <td>69925.10</td>\n",
       "      <td>11.16</td>\n",
       "      <td>31.85</td>\n",
       "      <td>31.85</td>\n",
       "      <td>261.51</td>\n",
       "      <td>4.77</td>\n",
       "      <td>8717.05</td>\n",
       "      <td>2.00</td>\n",
       "      <td>5.47</td>\n",
       "      <td>0.60</td>\n",
       "      <td>0.38</td>\n",
       "      <td>22328.17</td>\n",
       "      <td>24.52</td>\n",
       "      <td>0.40</td>\n",
       "      <td>12.00</td>\n",
       "    </tr>\n",
       "    <tr>\n",
       "      <th>min</th>\n",
       "      <td>0.00</td>\n",
       "      <td>-1.00</td>\n",
       "      <td>629.00</td>\n",
       "      <td>625.00</td>\n",
       "      <td>4.93</td>\n",
       "      <td>5.31</td>\n",
       "      <td>500.00</td>\n",
       "      <td>0.00</td>\n",
       "      <td>0.00</td>\n",
       "      <td>0.00</td>\n",
       "      <td>0.00</td>\n",
       "      <td>0.00</td>\n",
       "      <td>0.00</td>\n",
       "      <td>0.00</td>\n",
       "      <td>2.00</td>\n",
       "    </tr>\n",
       "    <tr>\n",
       "      <th>50%</th>\n",
       "      <td>65000.00</td>\n",
       "      <td>17.61</td>\n",
       "      <td>694.00</td>\n",
       "      <td>690.00</td>\n",
       "      <td>375.43</td>\n",
       "      <td>12.74</td>\n",
       "      <td>12000.00</td>\n",
       "      <td>1.00</td>\n",
       "      <td>11.00</td>\n",
       "      <td>0.00</td>\n",
       "      <td>0.00</td>\n",
       "      <td>11134.00</td>\n",
       "      <td>52.20</td>\n",
       "      <td>0.00</td>\n",
       "      <td>23.00</td>\n",
       "    </tr>\n",
       "    <tr>\n",
       "      <th>99%</th>\n",
       "      <td>250000.00</td>\n",
       "      <td>38.47</td>\n",
       "      <td>804.00</td>\n",
       "      <td>800.00</td>\n",
       "      <td>1221.50</td>\n",
       "      <td>26.30</td>\n",
       "      <td>35000.00</td>\n",
       "      <td>8.00</td>\n",
       "      <td>29.00</td>\n",
       "      <td>2.00</td>\n",
       "      <td>1.00</td>\n",
       "      <td>94553.91</td>\n",
       "      <td>98.20</td>\n",
       "      <td>2.00</td>\n",
       "      <td>61.00</td>\n",
       "    </tr>\n",
       "    <tr>\n",
       "      <th>max</th>\n",
       "      <td>10999200.00</td>\n",
       "      <td>999.00</td>\n",
       "      <td>850.00</td>\n",
       "      <td>845.00</td>\n",
       "      <td>1719.83</td>\n",
       "      <td>30.99</td>\n",
       "      <td>40000.00</td>\n",
       "      <td>51.00</td>\n",
       "      <td>90.00</td>\n",
       "      <td>86.00</td>\n",
       "      <td>12.00</td>\n",
       "      <td>2904836.00</td>\n",
       "      <td>892.30</td>\n",
       "      <td>85.00</td>\n",
       "      <td>176.00</td>\n",
       "    </tr>\n",
       "  </tbody>\n",
       "</table>\n",
       "</div>"
      ],
      "text/plain": [
       "       annual_inc        dti  fico_range_high  fico_range_low  installment  \\\n",
       "count  1345310.00 1344936.00       1345310.00      1345310.00   1345310.00   \n",
       "mean     76247.64      18.28           700.19          696.19       438.08   \n",
       "std      69925.10      11.16            31.85           31.85       261.51   \n",
       "min          0.00      -1.00           629.00          625.00         4.93   \n",
       "50%      65000.00      17.61           694.00          690.00       375.43   \n",
       "99%     250000.00      38.47           804.00          800.00      1221.50   \n",
       "max   10999200.00     999.00           850.00          845.00      1719.83   \n",
       "\n",
       "        int_rate  loan_amnt   mort_acc   open_acc    pub_rec  \\\n",
       "count 1345310.00 1345310.00 1298029.00 1345310.00 1345310.00   \n",
       "mean       13.24   14419.97       1.67      11.59       0.22   \n",
       "std         4.77    8717.05       2.00       5.47       0.60   \n",
       "min         5.31     500.00       0.00       0.00       0.00   \n",
       "50%        12.74   12000.00       1.00      11.00       0.00   \n",
       "99%        26.30   35000.00       8.00      29.00       2.00   \n",
       "max        30.99   40000.00      51.00      90.00      86.00   \n",
       "\n",
       "       pub_rec_bankruptcies  revol_bal  revol_util  tax_liens  total_acc  \n",
       "count            1344613.00 1345310.00  1344453.00 1345271.00 1345310.00  \n",
       "mean                   0.13   16248.11       51.81       0.05      24.98  \n",
       "std                    0.38   22328.17       24.52       0.40      12.00  \n",
       "min                    0.00       0.00        0.00       0.00       2.00  \n",
       "50%                    0.00   11134.00       52.20       0.00      23.00  \n",
       "99%                    1.00   94553.91       98.20       2.00      61.00  \n",
       "max                   12.00 2904836.00      892.30      85.00     176.00  "
      ]
     },
     "execution_count": 21,
     "metadata": {},
     "output_type": "execute_result"
    }
   ],
   "source": [
    "# Round to two decimal places in pandas. \n",
    "pd.options.display.float_format = '{:.2f}'.format\n",
    "\n",
    "loan_data.describe(percentiles=[0.5, 0.99]).sort_index(axis='columns')"
   ]
  },
  {
   "cell_type": "markdown",
   "metadata": {},
   "source": [
    "Some rows have negative **dti** (percentage of monthly debt payment to \n",
    "monthly income). How many such rows are there?"
   ]
  },
  {
   "cell_type": "code",
   "execution_count": 22,
   "metadata": {},
   "outputs": [
    {
     "name": "stdout",
     "output_type": "stream",
     "text": [
      "Number of rows with negative dti: 2\n"
     ]
    }
   ],
   "source": [
    "mask_dti = loan_data['dti'] < 0\n",
    "print('Number of rows with negative dti:', mask_dti.sum())"
   ]
  },
  {
   "cell_type": "markdown",
   "metadata": {},
   "source": [
    "Some rows have **dti** greater than 100. How many such rows are there?"
   ]
  },
  {
   "cell_type": "code",
   "execution_count": 23,
   "metadata": {},
   "outputs": [
    {
     "name": "stdout",
     "output_type": "stream",
     "text": [
      "Number of rows with dti greater than\n",
      "100: 533\n",
      "400: 85\n",
      "800: 44\n"
     ]
    }
   ],
   "source": [
    "vals = [100, 400, 800]\n",
    "print('Number of rows with dti greater than')\n",
    "for val in vals:\n",
    "    mask_dti = loan_data['dti'] > val\n",
    "    print(f'{val}:', mask_dti.sum())"
   ]
  },
  {
   "cell_type": "markdown",
   "metadata": {},
   "source": [
    "In some rows, the value of the feature **revol_util** (percentage of total \n",
    "revolving credit balance to total available revolving credit) is greater than \n",
    "100. How many such rows are there?"
   ]
  },
  {
   "cell_type": "code",
   "execution_count": 24,
   "metadata": {},
   "outputs": [
    {
     "name": "stdout",
     "output_type": "stream",
     "text": [
      "Number of rows with revol_util greater than\n",
      "100: 4687\n",
      "150: 20\n",
      "200: 2\n"
     ]
    }
   ],
   "source": [
    "vals = [100, 150, 200]\n",
    "print('Number of rows with revol_util greater than')\n",
    "for val in vals:\n",
    "    mask_revol_util = loan_data['revol_util'] > val\n",
    "    print(f'{val}:', mask_revol_util.sum())"
   ]
  },
  {
   "cell_type": "markdown",
   "metadata": {},
   "source": [
    "Next, we wish to take a look at the histogram of each numerical feature. \n",
    "We observe that several features include extreme outliers, which will make \n",
    "the histograms ineffective if we don't handle these outliers appropriately.\n",
    "As such, we will first manually choose bin edges and clip points for the \n",
    "data before plotting the histograms."
   ]
  },
  {
   "cell_type": "code",
   "execution_count": 25,
   "metadata": {},
   "outputs": [],
   "source": [
    "# In a histogram plot that uses numpy.histogram_bin_edges, the bar to the \n",
    "# furthest right includes the right edge, unlike the other bars; we choose\n",
    "# 'a_max' accordingly.\n",
    "bin_edges_and_clips = {\n",
    "    'annual_inc': {'bin_edges': np.arange(0, 300001, 5000), 'a_max': 300000},\n",
    "    'dti': {'bin_edges': np.arange(0, 41, 1), 'a_max': 40},\n",
    "    'mort_acc': {'bin_edges': np.arange(0, 11, 1), 'a_max': 10},             \n",
    "    'open_acc': {'bin_edges': np.arange(0, 31, 1), 'a_max': 30},\n",
    "    'pub_rec': {'bin_edges': np.arange(0, 5, 1), 'a_max': 3},\n",
    "    'pub_rec_bankruptcies': {'bin_edges': np.arange(0, 4, 1), 'a_max': 2}, \n",
    "    'revol_bal': {'bin_edges': np.arange(0, 100001, 2000), 'a_max': 100000},\n",
    "    'revol_util': {'bin_edges': np.arange(0, 101, 2), 'a_max': 100},\n",
    "    'tax_liens': {'bin_edges': np.arange(0, 5, 1), 'a_max': 3},\n",
    "    'total_acc': {'bin_edges': np.arange(0, 81, 2), 'a_max': 80}                 \n",
    "}\n",
    "\n",
    "# http://stackoverflow.com/questions/579310\n",
    "def human_readable(num):\n",
    "    ''' Convert given number to human-readable form. ''' \n",
    "    num = float('{:.3g}'.format(num))\n",
    "    magnitude = int(floor(log(abs(num), 1000))) if abs(num) >= 1000 else 0\n",
    "    num = num / 1000**magnitude\n",
    "    units = ['', 'K', 'M', 'B', 'T', 'Q']\n",
    "    return '{}{}'.format('{:f}'.format(num).rstrip('0').rstrip('.'), \n",
    "                         units[magnitude])"
   ]
  },
  {
   "cell_type": "markdown",
   "metadata": {},
   "source": [
    "Now that bin edges and clip points have been chosen, let's plot the \n",
    "histograms:"
   ]
  },
  {
   "cell_type": "code",
   "execution_count": 26,
   "metadata": {},
   "outputs": [
    {
     "data": {
      "image/png": "[encoded data removed]",
      "text/plain": [
       "<Figure size 1440x960 with 15 Axes>"
      ]
     },
     "metadata": {},
     "output_type": "display_data"
    }
   ],
   "source": [
    "n_cols = 4\n",
    "n_rows = ceil(len(num_features)/n_cols)\n",
    "aspect = 1.5\n",
    "fig = plt.figure(figsize=(20, (n_rows/n_cols)*(20/aspect)))\n",
    "fig.suptitle('Histograms of Numerical Features', fontsize=16)\n",
    "\n",
    "for counter, feature in enumerate(num_features, 1):\n",
    "    ax = fig.add_subplot(n_rows, n_cols, counter)\n",
    "    if feature in bin_edges_and_clips:\n",
    "        bin_edges = bin_edges_and_clips[feature]['bin_edges']\n",
    "        a_max = bin_edges_and_clips[feature]['a_max']\n",
    "        x = np.clip(loan_data[feature], a_min=None, a_max=a_max) \n",
    "        sns.histplot(bins=bin_edges, x=x, stat='count', alpha=1, ax=ax)\n",
    "        ax.patches[-1].set_facecolor('r')\n",
    "        fig.canvas.draw()\n",
    "        labels = [item.get_text() for item in ax.get_xticklabels()]\n",
    "        labels = [float(item.replace('\\u2212', '-')) for item in labels]\n",
    "        labels = [human_readable(item) for item in labels]\n",
    "        ax.set_xticklabels(labels)\n",
    "    else:\n",
    "        bins = 50\n",
    "        x = loan_data[feature]    \n",
    "        sns.histplot(bins=bins, x=x, stat='count', alpha=1, ax=ax)\n",
    "    ax.set_title(feature)  \n",
    "    ax.set_xlabel('')\n",
    "    ax.set_ylabel('')  \n",
    "    xmax = loan_data[feature].notnull().sum()\n",
    "    ax.yaxis.set_major_formatter(PercentFormatter(xmax=xmax, decimals=0))\n",
    "\n",
    "fig.tight_layout()\n",
    "fig.subplots_adjust(top=0.90, wspace=0.3, hspace=0.4)  "
   ]
  },
  {
   "cell_type": "markdown",
   "metadata": {},
   "source": [
    "Each red-colored bar above includes all values greater than or equal to the \n",
    "left edge of the bar."
   ]
  },
  {
   "cell_type": "markdown",
   "metadata": {},
   "source": [
    "Based on the information gathered so far, we make observations about each\n",
    "numerical feature:\n",
    "\n",
    "* **annual_inc** (annual income): 99% of the values are between $0 and \n",
    "$250,000. The median is $65,000, and the maximum is approximately \n",
    "$11 million. \n",
    "\n",
    "\n",
    "* **dti** (percentage of monthly debt payment to monthly income): 99% of \n",
    "the values are between -1 and 38. The median is 18, and the maximum \n",
    "is 999. There are two rows that have a negative value. We suspect this \n",
    "is a data entry error, and as such we will drop the two rows.  \n",
    "\n",
    "\n",
    "* **fico_range_low, fico_range_high** (lower and upper boundary of \n",
    "borrower's FICO score range): The histograms of these two features have\n",
    "identical shape. We will consider combining these features \n",
    "after further investigation.\n",
    "\n",
    "\n",
    "* **installment** (monthly payment owed on the loan): The values range\n",
    "from approximately $5 to $1720, with median $375.\n",
    "\n",
    "\n",
    "* **int_rate** (interest rate on the loan): The values range from 5.31%\n",
    "to 30.99%, with median 12.74%.\n",
    "\n",
    "\n",
    "* **loan_amnt** (loan amount): The values range from $500 to $40,000,\n",
    "with median $12,000.\n",
    "\n",
    "\n",
    "* **mort_acc** (number of mortgage accounts): 99% of the values are\n",
    "between 0 and 8. The median is 1, and the maximum is 51.\n",
    "\n",
    "\n",
    "* **open_acc** (number of open credit lines): 99% of the values are\n",
    "between 0 and 29. The median is 11, and the maximum is 90.\n",
    "\n",
    "\n",
    "* **pub_rec** (number of derogatory public records): 99% of the values are\n",
    "either 0, 1, or 2. The median is 0, and the maximum is 86.\n",
    "\n",
    "\n",
    "* **pub_rec_bankruptcies** (number of public record bankruptcies): 99% of \n",
    "the values are either 0 or 1. The median is 0, and the maximum is 12. \n",
    "\n",
    "\n",
    "* **revol_bal** (total revolving credit balance): 99% of the values are \n",
    "between $0 and $95,000. The median is $11,000, and the maximum is \n",
    "approximately $3 million. \n",
    "\n",
    "\n",
    "* **revol_util** (percentage of **revol_bal** to total available \n",
    "revolving credit): 99% of the values are between 0 and 98. \n",
    "The median is 52, and the maximum is 892. How is a value greater than 100\n",
    "possible? The *Credit Card Accountability, Responsibility and Disclosure Act*\n",
    "made it difficult for borrowers to go over their credit limit,\n",
    "but it is still possible, as can be seen from this \n",
    "[information](https://www.consumerfinance.gov/ask-cfpb/i-went-over-my-credit-limit-and-i-was-charged-an-overlimit-fee-what-can-i-do-en-58/) \n",
    "provided by the *Consumer Financial Protection Bureau*. There are two rows \n",
    "that have values in excess of 200. We suspect this is a data entry error, \n",
    "and as such we will drop the two rows.  \n",
    "\n",
    "\n",
    "* **tax_liens** (number of tax liens): 99% of the values are\n",
    "either 0, 1, or 2. The median is 0, and the maximum is 85.\n",
    "\n",
    "\n",
    "* **total_acc** (number of credit lines): 99% of the values are\n",
    "between 0 to 61. The median is 23, and the maximum is 176.\n",
    "\n",
    "\n",
    "The features **annual_inc**, **dti**, and **revol_bal** have tail-heavy \n",
    "histograms, that is, they extend much farther to the right of the median \n",
    "than to the left. Since this may make it hard for some machine learning \n",
    "algorithms to detect patterns, we will consider transforming these \n",
    "features to have a more bell-shaped distribution.\n",
    "\n",
    "The features have very different scales. Since this may make some machine \n",
    "learning algorithms perform poorly, we will consider scaling the features."
   ]
  },
  {
   "cell_type": "code",
   "execution_count": 27,
   "metadata": {},
   "outputs": [],
   "source": [
    "# Drop rows that have negative dti values.\n",
    "mask_dti = loan_data['dti'] < 0\n",
    "loan_data = loan_data[~mask_dti]"
   ]
  },
  {
   "cell_type": "code",
   "execution_count": 28,
   "metadata": {},
   "outputs": [
    {
     "name": "stdout",
     "output_type": "stream",
     "text": [
      "Size of the dataset: 1345308 rows and 31 columns\n"
     ]
    }
   ],
   "source": [
    "n_rows, n_cols = loan_data.shape\n",
    "print(f'Size of the dataset: {n_rows} rows and {n_cols} columns')"
   ]
  },
  {
   "cell_type": "code",
   "execution_count": 29,
   "metadata": {},
   "outputs": [],
   "source": [
    "# Drop rows that have revol_util values greater than 200.\n",
    "mask_revol_util = loan_data['revol_util'] > 200\n",
    "loan_data = loan_data[~mask_revol_util]"
   ]
  },
  {
   "cell_type": "code",
   "execution_count": 30,
   "metadata": {},
   "outputs": [
    {
     "name": "stdout",
     "output_type": "stream",
     "text": [
      "Size of the dataset: 1345306 rows and 31 columns\n"
     ]
    }
   ],
   "source": [
    "n_rows, n_cols = loan_data.shape\n",
    "print(f'Size of the dataset: {n_rows} rows and {n_cols} columns')"
   ]
  },
  {
   "cell_type": "markdown",
   "metadata": {},
   "source": [
    "## 3. Understand the Categorical Features"
   ]
  },
  {
   "cell_type": "markdown",
   "metadata": {},
   "source": [
    "Let's take a look at the description of each categorical feature:"
   ]
  },
  {
   "cell_type": "code",
   "execution_count": 31,
   "metadata": {},
   "outputs": [
    {
     "data": {
      "text/html": [
       "<div>\n",
       "<style scoped>\n",
       "    .dataframe tbody tr th:only-of-type {\n",
       "        vertical-align: middle;\n",
       "    }\n",
       "\n",
       "    .dataframe tbody tr th {\n",
       "        vertical-align: top;\n",
       "    }\n",
       "\n",
       "    .dataframe thead th {\n",
       "        text-align: right;\n",
       "    }\n",
       "</style>\n",
       "<table border=\"1\" class=\"dataframe\">\n",
       "  <thead>\n",
       "    <tr style=\"text-align: right;\">\n",
       "      <th></th>\n",
       "      <th>Description</th>\n",
       "    </tr>\n",
       "    <tr>\n",
       "      <th>LoanStatNew</th>\n",
       "      <th></th>\n",
       "    </tr>\n",
       "  </thead>\n",
       "  <tbody>\n",
       "    <tr>\n",
       "      <th>addr_state</th>\n",
       "      <td>The state provided by the borrower in the loan application</td>\n",
       "    </tr>\n",
       "    <tr>\n",
       "      <th>application_type</th>\n",
       "      <td>Indicates whether the loan is an individual application or a joint application with two co-borrowers</td>\n",
       "    </tr>\n",
       "    <tr>\n",
       "      <th>earliest_cr_line</th>\n",
       "      <td>The month the borrower's earliest reported credit line was opened</td>\n",
       "    </tr>\n",
       "    <tr>\n",
       "      <th>emp_length</th>\n",
       "      <td>Employment length in years. Possible values are between 0 and 10 where 0 means less than one year and 10 means ten or more years.</td>\n",
       "    </tr>\n",
       "    <tr>\n",
       "      <th>emp_title</th>\n",
       "      <td>The job title supplied by the Borrower when applying for the loan.*</td>\n",
       "    </tr>\n",
       "    <tr>\n",
       "      <th>grade</th>\n",
       "      <td>LC assigned loan grade</td>\n",
       "    </tr>\n",
       "    <tr>\n",
       "      <th>home_ownership</th>\n",
       "      <td>The home ownership status provided by the borrower during registration or obtained from the credit report. Our values are: RENT, OWN, MORTGAGE, OTHER</td>\n",
       "    </tr>\n",
       "    <tr>\n",
       "      <th>initial_list_status</th>\n",
       "      <td>The initial listing status of the loan. Possible values are – W, F</td>\n",
       "    </tr>\n",
       "    <tr>\n",
       "      <th>issue_d</th>\n",
       "      <td>The month which the loan was funded</td>\n",
       "    </tr>\n",
       "    <tr>\n",
       "      <th>purpose</th>\n",
       "      <td>A category provided by the borrower for the loan request.</td>\n",
       "    </tr>\n",
       "    <tr>\n",
       "      <th>sub_grade</th>\n",
       "      <td>LC assigned loan subgrade</td>\n",
       "    </tr>\n",
       "    <tr>\n",
       "      <th>term</th>\n",
       "      <td>The number of payments on the loan. Values are in months and can be either 36 or 60.</td>\n",
       "    </tr>\n",
       "    <tr>\n",
       "      <th>title</th>\n",
       "      <td>The loan title provided by the borrower</td>\n",
       "    </tr>\n",
       "    <tr>\n",
       "      <th>verification_status</th>\n",
       "      <td>Indicates if income was verified by LC, not verified, or if the income source was verified</td>\n",
       "    </tr>\n",
       "    <tr>\n",
       "      <th>zip_code</th>\n",
       "      <td>The first 3 numbers of the zip code provided by the borrower in the loan application.</td>\n",
       "    </tr>\n",
       "  </tbody>\n",
       "</table>\n",
       "</div>"
      ],
      "text/plain": [
       "                                                                                                                                                               Description\n",
       "LoanStatNew                                                                                                                                                               \n",
       "addr_state                                                                                                      The state provided by the borrower in the loan application\n",
       "application_type                                                      Indicates whether the loan is an individual application or a joint application with two co-borrowers\n",
       "earliest_cr_line                                                                                         The month the borrower's earliest reported credit line was opened\n",
       "emp_length                              Employment length in years. Possible values are between 0 and 10 where 0 means less than one year and 10 means ten or more years. \n",
       "emp_title                                                                                              The job title supplied by the Borrower when applying for the loan.*\n",
       "grade                                                                                                                                               LC assigned loan grade\n",
       "home_ownership       The home ownership status provided by the borrower during registration or obtained from the credit report. Our values are: RENT, OWN, MORTGAGE, OTHER\n",
       "initial_list_status                                                                                     The initial listing status of the loan. Possible values are – W, F\n",
       "issue_d                                                                                                                                The month which the loan was funded\n",
       "purpose                                                                                                         A category provided by the borrower for the loan request. \n",
       "sub_grade                                                                                                                                        LC assigned loan subgrade\n",
       "term                                                                                  The number of payments on the loan. Values are in months and can be either 36 or 60.\n",
       "title                                                                                                                              The loan title provided by the borrower\n",
       "verification_status                                                             Indicates if income was verified by LC, not verified, or if the income source was verified\n",
       "zip_code                                                                             The first 3 numbers of the zip code provided by the borrower in the loan application."
      ]
     },
     "execution_count": 31,
     "metadata": {},
     "output_type": "execute_result"
    }
   ],
   "source": [
    "cat_features = sorted(loan_data.columns[loan_data.dtypes \n",
    "                                        == 'object'].to_list())\n",
    "cat_features.remove('loan_status')\n",
    "data_dictionary.loc[cat_features]"
   ]
  },
  {
   "cell_type": "code",
   "execution_count": 32,
   "metadata": {},
   "outputs": [],
   "source": [
    "pd.reset_option('display.max_rows')\n",
    "pd.reset_option('display.max_columns')\n",
    "pd.reset_option('display.max_colwidth') "
   ]
  },
  {
   "cell_type": "markdown",
   "metadata": {},
   "source": [
    "Let's gather some statistics for each categorical feature:"
   ]
  },
  {
   "cell_type": "code",
   "execution_count": 33,
   "metadata": {
    "scrolled": true
   },
   "outputs": [
    {
     "data": {
      "text/html": [
       "<div>\n",
       "<style scoped>\n",
       "    .dataframe tbody tr th:only-of-type {\n",
       "        vertical-align: middle;\n",
       "    }\n",
       "\n",
       "    .dataframe tbody tr th {\n",
       "        vertical-align: top;\n",
       "    }\n",
       "\n",
       "    .dataframe thead th {\n",
       "        text-align: right;\n",
       "    }\n",
       "</style>\n",
       "<table border=\"1\" class=\"dataframe\">\n",
       "  <thead>\n",
       "    <tr style=\"text-align: right;\">\n",
       "      <th></th>\n",
       "      <th>addr_state</th>\n",
       "      <th>application_type</th>\n",
       "      <th>earliest_cr_line</th>\n",
       "      <th>emp_length</th>\n",
       "      <th>emp_title</th>\n",
       "      <th>grade</th>\n",
       "      <th>home_ownership</th>\n",
       "      <th>initial_list_status</th>\n",
       "      <th>issue_d</th>\n",
       "      <th>loan_status</th>\n",
       "      <th>purpose</th>\n",
       "      <th>sub_grade</th>\n",
       "      <th>term</th>\n",
       "      <th>title</th>\n",
       "      <th>verification_status</th>\n",
       "      <th>zip_code</th>\n",
       "    </tr>\n",
       "  </thead>\n",
       "  <tbody>\n",
       "    <tr>\n",
       "      <th>count</th>\n",
       "      <td>1345306</td>\n",
       "      <td>1345306</td>\n",
       "      <td>1345306</td>\n",
       "      <td>1266795</td>\n",
       "      <td>1259521</td>\n",
       "      <td>1345306</td>\n",
       "      <td>1345306</td>\n",
       "      <td>1345306</td>\n",
       "      <td>1345306</td>\n",
       "      <td>1345306</td>\n",
       "      <td>1345306</td>\n",
       "      <td>1345306</td>\n",
       "      <td>1345306</td>\n",
       "      <td>1328647</td>\n",
       "      <td>1345306</td>\n",
       "      <td>1345305</td>\n",
       "    </tr>\n",
       "    <tr>\n",
       "      <th>unique</th>\n",
       "      <td>51</td>\n",
       "      <td>2</td>\n",
       "      <td>739</td>\n",
       "      <td>11</td>\n",
       "      <td>378353</td>\n",
       "      <td>7</td>\n",
       "      <td>6</td>\n",
       "      <td>2</td>\n",
       "      <td>139</td>\n",
       "      <td>2</td>\n",
       "      <td>14</td>\n",
       "      <td>35</td>\n",
       "      <td>2</td>\n",
       "      <td>61682</td>\n",
       "      <td>3</td>\n",
       "      <td>943</td>\n",
       "    </tr>\n",
       "    <tr>\n",
       "      <th>top</th>\n",
       "      <td>CA</td>\n",
       "      <td>Individual</td>\n",
       "      <td>Aug-2001</td>\n",
       "      <td>10+ years</td>\n",
       "      <td>Teacher</td>\n",
       "      <td>B</td>\n",
       "      <td>MORTGAGE</td>\n",
       "      <td>w</td>\n",
       "      <td>Mar-2016</td>\n",
       "      <td>Fully Paid</td>\n",
       "      <td>debt_consolidation</td>\n",
       "      <td>C1</td>\n",
       "      <td>36 months</td>\n",
       "      <td>Debt consolidation</td>\n",
       "      <td>Source Verified</td>\n",
       "      <td>945xx</td>\n",
       "    </tr>\n",
       "    <tr>\n",
       "      <th>freq</th>\n",
       "      <td>196527</td>\n",
       "      <td>1319507</td>\n",
       "      <td>9391</td>\n",
       "      <td>442197</td>\n",
       "      <td>21268</td>\n",
       "      <td>392739</td>\n",
       "      <td>665576</td>\n",
       "      <td>784008</td>\n",
       "      <td>48936</td>\n",
       "      <td>1076748</td>\n",
       "      <td>780317</td>\n",
       "      <td>85494</td>\n",
       "      <td>1020741</td>\n",
       "      <td>660956</td>\n",
       "      <td>521271</td>\n",
       "      <td>15005</td>\n",
       "    </tr>\n",
       "  </tbody>\n",
       "</table>\n",
       "</div>"
      ],
      "text/plain": [
       "       addr_state application_type earliest_cr_line emp_length emp_title  \\\n",
       "count     1345306          1345306          1345306    1266795   1259521   \n",
       "unique         51                2              739         11    378353   \n",
       "top            CA       Individual         Aug-2001  10+ years   Teacher   \n",
       "freq       196527          1319507             9391     442197     21268   \n",
       "\n",
       "          grade home_ownership initial_list_status   issue_d loan_status  \\\n",
       "count   1345306        1345306             1345306   1345306     1345306   \n",
       "unique        7              6                   2       139           2   \n",
       "top           B       MORTGAGE                   w  Mar-2016  Fully Paid   \n",
       "freq     392739         665576              784008     48936     1076748   \n",
       "\n",
       "                   purpose sub_grade        term               title  \\\n",
       "count              1345306   1345306     1345306             1328647   \n",
       "unique                  14        35           2               61682   \n",
       "top     debt_consolidation        C1   36 months  Debt consolidation   \n",
       "freq                780317     85494     1020741              660956   \n",
       "\n",
       "       verification_status zip_code  \n",
       "count              1345306  1345305  \n",
       "unique                   3      943  \n",
       "top        Source Verified    945xx  \n",
       "freq                521271    15005  "
      ]
     },
     "execution_count": 33,
     "metadata": {},
     "output_type": "execute_result"
    }
   ],
   "source": [
    "loan_data.describe(include=[object]).sort_index(axis='columns')"
   ]
  },
  {
   "cell_type": "markdown",
   "metadata": {},
   "source": [
    "Let's take a look at all the categories for each categorical feature,\n",
    "except **earliest_cr_line**, **issue_d**, **title**, and **zip_code**, which\n",
    "have 739, 378353, 139, 61682, and 943 categories, respectively:"
   ]
  },
  {
   "cell_type": "code",
   "execution_count": 34,
   "metadata": {},
   "outputs": [
    {
     "name": "stdout",
     "output_type": "stream",
     "text": [
      "addr_state: ['AK', 'AL', 'AR', 'AZ', 'CA', 'CO', 'CT', 'DC', 'DE', 'FL', 'GA', 'HI', 'IA', 'ID', 'IL', 'IN', 'KS', 'KY', 'LA', 'MA', 'MD', 'ME', 'MI', 'MN', 'MO', 'MS', 'MT', 'NC', 'ND', 'NE', 'NH', 'NJ', 'NM', 'NV', 'NY', 'OH', 'OK', 'OR', 'PA', 'RI', 'SC', 'SD', 'TN', 'TX', 'UT', 'VA', 'VT', 'WA', 'WI', 'WV', 'WY'] \n",
      "\n",
      "application_type: ['Individual', 'Joint App'] \n",
      "\n",
      "emp_length: ['1 year', '10+ years', '2 years', '3 years', '4 years', '5 years', '6 years', '7 years', '8 years', '9 years', '< 1 year', 'nan'] \n",
      "\n",
      "grade: ['A', 'B', 'C', 'D', 'E', 'F', 'G'] \n",
      "\n",
      "home_ownership: ['ANY', 'MORTGAGE', 'NONE', 'OTHER', 'OWN', 'RENT'] \n",
      "\n",
      "initial_list_status: ['f', 'w'] \n",
      "\n",
      "purpose: ['car', 'credit_card', 'debt_consolidation', 'educational', 'home_improvement', 'house', 'major_purchase', 'medical', 'moving', 'other', 'renewable_energy', 'small_business', 'vacation', 'wedding'] \n",
      "\n",
      "sub_grade: ['A1', 'A2', 'A3', 'A4', 'A5', 'B1', 'B2', 'B3', 'B4', 'B5', 'C1', 'C2', 'C3', 'C4', 'C5', 'D1', 'D2', 'D3', 'D4', 'D5', 'E1', 'E2', 'E3', 'E4', 'E5', 'F1', 'F2', 'F3', 'F4', 'F5', 'G1', 'G2', 'G3', 'G4', 'G5'] \n",
      "\n",
      "term: [' 36 months', ' 60 months'] \n",
      "\n",
      "verification_status: ['Not Verified', 'Source Verified', 'Verified'] \n",
      "\n"
     ]
    }
   ],
   "source": [
    "# Categorical features that have too many categories.\n",
    "cat_features_too_many = ['earliest_cr_line', 'emp_title', 'issue_d', 'title', \n",
    "                         'zip_code']\n",
    "# Categorical features that have a reasonable number of categories.\n",
    "cat_features_reasonable = [elm for elm in cat_features \n",
    "                           if elm not in cat_features_too_many]\n",
    "for feature in cat_features_reasonable:\n",
    "    print(f'{feature}:', sorted(loan_data[feature].unique().astype(str)), \n",
    "          '\\n')"
   ]
  },
  {
   "cell_type": "markdown",
   "metadata": {},
   "source": [
    "Let's take a look at five random values for each of the features\n",
    "**earliest_cr_line**, **emp_title**, **issue_d**, **title**, and **zip_code**:"
   ]
  },
  {
   "cell_type": "code",
   "execution_count": 35,
   "metadata": {},
   "outputs": [
    {
     "name": "stdout",
     "output_type": "stream",
     "text": [
      "earliest_cr_line: ['Mar-2012', 'Jun-2006', 'May-2003', 'Mar-2002', 'Feb-1997'] \n",
      "\n",
      "emp_title: ['JEOL USA', 'RN', 'senior staff nurse', 'Account tech 2', 'Piping Shop Foreman // Safety Rep'] \n",
      "\n",
      "issue_d: ['Jun-2016', 'Feb-2018', 'Jul-2014', 'Jun-2017', 'Jul-2017'] \n",
      "\n",
      "title: ['Credit card refinancing', 'Debt consolidation', 'debt con', 'Home improvement', 'Credit card refinancing'] \n",
      "\n",
      "zip_code: ['958xx', '079xx', '275xx', '209xx', '331xx'] \n",
      "\n"
     ]
    }
   ],
   "source": [
    "for feature in cat_features_too_many:\n",
    "    print(f'{feature}:', list(loan_data[feature].sample(5).values), '\\n')"
   ]
  },
  {
   "cell_type": "markdown",
   "metadata": {},
   "source": [
    "What are the 15 most frequent values for **emp_title** and **title**?"
   ]
  },
  {
   "cell_type": "code",
   "execution_count": 36,
   "metadata": {},
   "outputs": [
    {
     "name": "stdout",
     "output_type": "stream",
     "text": [
      "[nan, 'Teacher', 'Manager', 'Owner', 'Registered Nurse', 'RN', 'Supervisor', 'Driver', 'Sales', 'Project Manager', 'Office Manager', 'General Manager', 'Director', 'owner', 'manager']\n"
     ]
    }
   ],
   "source": [
    "print(list(loan_data['emp_title'].value_counts(dropna=False).sort_values(ascending=False).head(15).index))"
   ]
  },
  {
   "cell_type": "code",
   "execution_count": 37,
   "metadata": {},
   "outputs": [
    {
     "name": "stdout",
     "output_type": "stream",
     "text": [
      "['Debt consolidation', 'Credit card refinancing', 'Home improvement', 'Other', 'Major purchase', nan, 'Debt Consolidation', 'Medical expenses', 'Business', 'Car financing', 'Vacation', 'Moving and relocation', 'Home buying', 'Consolidation', 'debt consolidation']\n"
     ]
    }
   ],
   "source": [
    "print(list(loan_data['title'].value_counts(dropna=False).sort_values(ascending=False).head(15).index))"
   ]
  },
  {
   "cell_type": "markdown",
   "metadata": {},
   "source": [
    "Let's make count plots of those categorical features that have a reasonable \n",
    "number of categories:"
   ]
  },
  {
   "cell_type": "code",
   "execution_count": 38,
   "metadata": {},
   "outputs": [
    {
     "data": {
      "image/png": "[encoded data removed]",
      "text/plain": [
       "<Figure size 1440x1440 with 10 Axes>"
      ]
     },
     "metadata": {},
     "output_type": "display_data"
    }
   ],
   "source": [
    "n_cols = 4\n",
    "n_rows = 4\n",
    "aspect = 1\n",
    "fig = plt.figure(figsize=(20, (n_rows/n_cols)*(20/aspect)))\n",
    "gs = fig.add_gridspec(n_rows, n_cols)\n",
    "fig.suptitle('Count Plots of Selected Categorical Features', fontsize=16)\n",
    "\n",
    "# Move the features 'addr_state' and 'sub_grade' to the end of the list.\n",
    "cat_features_tmp = [elm for elm in cat_features_reasonable\n",
    "                    if elm not in ['addr_state', 'sub_grade']]\n",
    "cat_features_tmp.extend(['addr_state', 'sub_grade'])\n",
    "\n",
    "for counter, feature in enumerate(cat_features_tmp, 0):\n",
    "    if feature == 'addr_state':\n",
    "        ax = fig.add_subplot(gs[2:4, 0:2])\n",
    "    elif feature == 'sub_grade':\n",
    "        ax = fig.add_subplot(gs[2:4, 2:4])\n",
    "    else:\n",
    "        ax = fig.add_subplot(gs[counter // n_cols, counter % n_cols])\n",
    "    if feature == 'emp_length':\n",
    "        order = ['< 1 year', '1 year', '2 years', '3 years', '4 years', \n",
    "                 '5 years', '6 years', '7 years', '8 years', '9 years',  \n",
    "                 '10+ years', 'nan']\n",
    "    else:\n",
    "        order = sorted(loan_data[feature].unique())\n",
    "    sns.countplot(y=feature, data=loan_data, order=order, ax=ax)\n",
    "    ax.set_title(feature) \n",
    "    ax.set_xlabel('')\n",
    "    ax.set_ylabel('') \n",
    "    xmax = loan_data[feature].notnull().sum()\n",
    "    ax.xaxis.set_major_formatter(PercentFormatter(xmax=xmax, decimals=0))\n",
    "\n",
    "fig.tight_layout()  \n",
    "fig.subplots_adjust(top=0.92, hspace=0.25)"
   ]
  },
  {
   "cell_type": "markdown",
   "metadata": {},
   "source": [
    "We see from the count plot above that the top three states by number of\n",
    "loans issued are California, Texas, and New York. Let's see what the\n",
    "ranking is by total loan volume:"
   ]
  },
  {
   "cell_type": "code",
   "execution_count": 39,
   "metadata": {},
   "outputs": [
    {
     "data": {
      "image/png": "[encoded data removed]"
     },
     "metadata": {},
     "output_type": "display_data"
    }
   ],
   "source": [
    "loan_amnt_by_state = loan_data.groupby('addr_state')['loan_amnt'].sum()\n",
    "\n",
    "fig = go.Figure(data=go.Choropleth(\n",
    "    locations=loan_amnt_by_state.index, z=loan_amnt_by_state, \n",
    "    locationmode='USA-states', colorscale='Blues', colorbar_title='USD'))\n",
    "\n",
    "fig.update_layout(\n",
    "    width=600, height=400, title_text = 'Total Loan Volume by State', \n",
    "    title_x=0.5, geo_scope='usa', margin=dict(b=10)\n",
    ")\n",
    "\n",
    "fig.update_yaxes(automargin=True)\n",
    "# Ensure that the plot is shown on github.\n",
    "fig.show('png')"
   ]
  },
  {
   "cell_type": "markdown",
   "metadata": {},
   "source": [
    "Based on the information gathered so far, we make observations about each\n",
    "categorical feature:\n",
    "\n",
    "* **addr_state** (state): There are 51 categories, ranging from 'AK' to 'WY',\n",
    "including 'DC' for Washington, DC. We will use one-hot encoding for this \n",
    "feature.\n",
    "\n",
    "\n",
    "* **application_type** (individual application or a joint application):\n",
    "There two categories, 'Individual' and 'Joint App', with more than 90%\n",
    "of the instances belonging to the first category. We will use one-hot \n",
    "encoding for this feature.\n",
    "\n",
    "\n",
    "* **earliest_cr_line**, **issue_d** (month and year of opening of borrower's \n",
    "earliest credit line, month and year in which the loan was funded):\n",
    "We will consider combining these two features to approximate the age of the \n",
    "borrower's oldest credit account.\n",
    "\n",
    "\n",
    "* **emp_length** (employment length in years): There are 12 categories,\n",
    "ranging from '< 1 year' to '10+ years', and the null value. We will \n",
    "consider using ordinal encoding for this feature after further investigation.\n",
    "\n",
    "\n",
    "* **emp_title** (job title): There are 378,353 categories. This feature\n",
    "does not lend itself to ordinal encoding, and there are far too many categories\n",
    "for one-hot encoding to be effective. Perhaps using just the top 10-15\n",
    "categories may be useful, or perhaps applying natural language processing\n",
    "techniques may effective, but to keep things simple, we will drop this feature.\n",
    "\n",
    "\n",
    "* **grade**, **sub_grade** (loan grade, loan subgrade): The features **grade**\n",
    "and **sub_grade** have 7 and 35 categories, ranging from 'A' to 'G',\n",
    "and from 'A1' to 'G5', respectively. The value of the feature **sub_grade**\n",
    "determines the value of the feature **grade**, and so we will drop the\n",
    "feature **grade**. We will consider using ordinal encoding for the \n",
    "feature **sub_grade** after further investigation.\n",
    "\n",
    "\n",
    "* **home_ownership** (home ownership status): There are 6 categories,\n",
    "'ANY', 'MORTGAGE', 'NONE', 'OTHER', 'OWN', and 'RENT', with very few instances\n",
    "belonging to the last three categories. We will replace the values 'ANY' and \n",
    "'NONE' with 'OTHER'. We will use one-hot encoding for this feature.\n",
    "\n",
    "\n",
    "* **initial_list_status** (initial listing status of the loan): There are two\n",
    "categories, 'f' and 'w'. While the Data Dictionary does not explain what\n",
    "these codes mean, a Google \n",
    "[search](https://www.lendacademy.com/lending-club-whole-loan-program-one-year-later/) \n",
    "reveals that they denote 'Fractional' and 'Whole'. \n",
    "In the year 2012, LendingClub announced that it would begin setting aside some loans\n",
    "that could only be purchased in their entirety ('w'). We will use one-hot encoding for \n",
    "this feature.\n",
    "\n",
    "\n",
    "* **purpose** (purpose of loan): There are 14 categories, with about 60% of the \n",
    "instances belonging to the 'debt_consolidation' category. We will use one-hot \n",
    "encoding for this feature.\n",
    "\n",
    "\n",
    "* **term** (loan duration in months): There are 2 categories, '36 months'\n",
    "and '60 months', with about 75% of the instances belonging to the first\n",
    "category. We will consider using ordinal encoding for this feature after \n",
    "further investigation.\n",
    "\n",
    "\n",
    "* **title** (loan title): There are 61,682 categories. As was the case\n",
    "with the feature **emp_title**, neither ordinal encoding nor one-hot encoding\n",
    "is appropriate for this feature. Moreover, it appears that the feature **purpose** \n",
    "contains the information provided by this feature, and as such we will \n",
    "drop this feature.\n",
    "\n",
    "\n",
    "* **verification_status** (income verified or not): There are three categories, \n",
    "'Not Verified', 'Source Verified', and 'Verified'. We will use one-hot \n",
    "encoding for this feature.\n",
    "\n",
    "\n",
    "* **zip_code** (first three digits of zip code): There are 943 categories.\n",
    "As was the case with the features **emp_title** and **title**, neither ordinal \n",
    "encoding nor one-hot encoding is appropriate for this feature. We will consider \n",
    "creating a new feature containing the median income of each 3-digit zip code."
   ]
  },
  {
   "cell_type": "code",
   "execution_count": 40,
   "metadata": {},
   "outputs": [],
   "source": [
    "# Drop the feature 'emp_title'.\n",
    "loan_data.drop(columns=['emp_title'], inplace=True)"
   ]
  },
  {
   "cell_type": "code",
   "execution_count": 41,
   "metadata": {},
   "outputs": [
    {
     "name": "stdout",
     "output_type": "stream",
     "text": [
      "Size of the dataset: 1345306 rows and 30 columns\n"
     ]
    }
   ],
   "source": [
    "n_rows, n_cols = loan_data.shape\n",
    "print(f'Size of the dataset: {n_rows} rows and {n_cols} columns')"
   ]
  },
  {
   "cell_type": "code",
   "execution_count": 42,
   "metadata": {},
   "outputs": [],
   "source": [
    "# Drop the feature 'grade'.\n",
    "loan_data.drop(columns=['grade'], inplace=True)"
   ]
  },
  {
   "cell_type": "code",
   "execution_count": 43,
   "metadata": {},
   "outputs": [
    {
     "name": "stdout",
     "output_type": "stream",
     "text": [
      "Size of the dataset: 1345306 rows and 29 columns\n"
     ]
    }
   ],
   "source": [
    "n_rows, n_cols = loan_data.shape\n",
    "print(f'Size of the dataset: {n_rows} rows and {n_cols} columns')"
   ]
  },
  {
   "cell_type": "code",
   "execution_count": 44,
   "metadata": {},
   "outputs": [],
   "source": [
    "# Replace the values 'ANY' and 'NONE' by 'OTHER' in the \n",
    "# feature 'home_ownership'.\n",
    "loan_data['home_ownership'].replace(['ANY', 'NONE'], 'OTHER', inplace=True)"
   ]
  },
  {
   "cell_type": "code",
   "execution_count": 45,
   "metadata": {},
   "outputs": [
    {
     "data": {
      "text/plain": [
       "['MORTGAGE', 'OTHER', 'OWN', 'RENT']"
      ]
     },
     "execution_count": 45,
     "metadata": {},
     "output_type": "execute_result"
    }
   ],
   "source": [
    "# Print all the categories of the feature 'home_ownership'\n",
    "sorted(loan_data['home_ownership'].unique())"
   ]
  },
  {
   "cell_type": "code",
   "execution_count": 46,
   "metadata": {},
   "outputs": [],
   "source": [
    "# Drop the feature 'title'.\n",
    "loan_data.drop(columns=['title'], inplace=True)"
   ]
  },
  {
   "cell_type": "code",
   "execution_count": 47,
   "metadata": {},
   "outputs": [
    {
     "name": "stdout",
     "output_type": "stream",
     "text": [
      "Size of the dataset: 1345306 rows and 28 columns\n"
     ]
    }
   ],
   "source": [
    "n_rows, n_cols = loan_data.shape\n",
    "print(f'Size of the dataset: {n_rows} rows and {n_cols} columns')"
   ]
  },
  {
   "cell_type": "markdown",
   "metadata": {},
   "source": [
    "## 4. Split the Data into Training and Test Sets"
   ]
  },
  {
   "cell_type": "markdown",
   "metadata": {},
   "source": [
    "Before we set aside a test set, let's take a look at the number of missing \n",
    "values for each feature:"
   ]
  },
  {
   "cell_type": "code",
   "execution_count": 48,
   "metadata": {},
   "outputs": [
    {
     "data": {
      "text/plain": [
       "addr_state                  0\n",
       "annual_inc                  0\n",
       "application_type            0\n",
       "dti                       374\n",
       "earliest_cr_line            0\n",
       "emp_length              78511\n",
       "fico_range_high             0\n",
       "fico_range_low              0\n",
       "home_ownership              0\n",
       "initial_list_status         0\n",
       "installment                 0\n",
       "int_rate                    0\n",
       "issue_d                     0\n",
       "loan_amnt                   0\n",
       "loan_status                 0\n",
       "mort_acc                47281\n",
       "open_acc                    0\n",
       "pub_rec                     0\n",
       "pub_rec_bankruptcies      697\n",
       "purpose                     0\n",
       "revol_bal                   0\n",
       "revol_util                857\n",
       "sub_grade                   0\n",
       "tax_liens                  39\n",
       "term                        0\n",
       "total_acc                   0\n",
       "verification_status         0\n",
       "zip_code                    1\n",
       "dtype: int64"
      ]
     },
     "execution_count": 48,
     "metadata": {},
     "output_type": "execute_result"
    }
   ],
   "source": [
    "loan_data.isnull().sum().sort_index()"
   ]
  },
  {
   "cell_type": "markdown",
   "metadata": {},
   "source": [
    "We will take care of the missing values later."
   ]
  },
  {
   "cell_type": "markdown",
   "metadata": {},
   "source": [
    "In order to avoid data snooping bias, we will now put aside a test set:"
   ]
  },
  {
   "cell_type": "code",
   "execution_count": 49,
   "metadata": {},
   "outputs": [],
   "source": [
    "loan_data_train, loan_data_test = train_test_split(\n",
    "    loan_data, test_size=0.2, stratify=loan_data['loan_status'])"
   ]
  },
  {
   "cell_type": "markdown",
   "metadata": {},
   "source": [
    "Let's save the training and test sets:"
   ]
  },
  {
   "cell_type": "code",
   "execution_count": 50,
   "metadata": {},
   "outputs": [],
   "source": [
    "loan_data_train.to_hdf('data/loan_data_train_and_test.hd5', \n",
    "                       key='train', mode='w')\n",
    "loan_data_test.to_hdf('data/loan_data_train_and_test.hd5', \n",
    "                      key='test', mode='a')"
   ]
  }
 ],
 "metadata": {
  "kernelspec": {
   "display_name": "Python 3",
   "language": "python",
   "name": "python3"
  },
  "language_info": {
   "codemirror_mode": {
    "name": "ipython",
    "version": 3
   },
   "file_extension": ".py",
   "mimetype": "text/x-python",
   "name": "python",
   "nbconvert_exporter": "python",
   "pygments_lexer": "ipython3",
   "version": "3.8.3"
  }
 },
 "nbformat": 4,
 "nbformat_minor": 4
}
